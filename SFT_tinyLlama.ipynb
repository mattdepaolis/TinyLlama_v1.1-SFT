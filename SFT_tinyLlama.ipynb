{
 "cells": [
  {
   "cell_type": "markdown",
   "id": "d8be49fd",
   "metadata": {},
   "source": [
    "# Fine-tuning for Memorization via Chat Fine-tuning"
   ]
  },
  {
   "cell_type": "markdown",
   "id": "a4214783",
   "metadata": {},
   "source": [
    "## Load Model"
   ]
  },
  {
   "cell_type": "code",
   "execution_count": 1,
   "id": "0abf6bd0",
   "metadata": {},
   "outputs": [
    {
     "name": "stdout",
     "output_type": "stream",
     "text": [
      "env: HF_HUB_ENABLEHF_TRANSFER=True\n"
     ]
    }
   ],
   "source": [
    "%env HF_HUB_ENABLEHF_TRANSFER = True"
   ]
  },
  {
   "cell_type": "code",
   "execution_count": 2,
   "id": "cf9f1571",
   "metadata": {},
   "outputs": [
    {
     "name": "stderr",
     "output_type": "stream",
     "text": [
      "Failed to detect the name of this notebook, you can set it manually with the WANDB_NOTEBOOK_NAME environment variable to enable code saving.\n"
     ]
    },
    {
     "name": "stdout",
     "output_type": "stream",
     "text": [
      "env: WANDB_API_KEY=YOUR_TOKEN\n"
     ]
    },
    {
     "name": "stderr",
     "output_type": "stream",
     "text": [
      "\u001b[34m\u001b[1mwandb\u001b[0m: Currently logged in as: \u001b[33mmatthias-depaolis\u001b[0m (\u001b[33mdemaz\u001b[0m). Use \u001b[1m`wandb login --relogin`\u001b[0m to force relogin\n",
      "\u001b[34m\u001b[1mwandb\u001b[0m: \u001b[33mWARNING\u001b[0m If you're specifying your api key in code, ensure this code is not shared publicly.\n",
      "\u001b[34m\u001b[1mwandb\u001b[0m: \u001b[33mWARNING\u001b[0m Consider setting the WANDB_API_KEY environment variable, or running `wandb login` from the command line.\n",
      "\u001b[34m\u001b[1mwandb\u001b[0m: Appending key for api.wandb.ai to your netrc file: /root/.netrc\n"
     ]
    },
    {
     "data": {
      "text/plain": [
       "True"
      ]
     },
     "execution_count": 2,
     "metadata": {},
     "output_type": "execute_result"
    }
   ],
   "source": [
    "#!pip install wandb -q -U\n",
    "import wandb\n",
    "import os\n",
    "\n",
    "#%env WANDB_NOTEBOOK_NAME = $Fine_tune_tinyllama_with_DPO\n",
    "wandb.login(key=os.environ[\"WANDB_API_KEY\"])"
   ]
  },
  {
   "cell_type": "code",
   "execution_count": 3,
   "id": "3da65936",
   "metadata": {},
   "outputs": [],
   "source": [
    "#!python -m pip install --upgrade pip\n",
    "#!pip install -U -q transformers\n",
    "#!pip install -U -q bitsandbytes\n",
    "#!pip install -U -q peft\n",
    "#!pip install -U -q accelerate\n",
    "#!pip install -U -q scipy\n",
    "#!pip install -U -q trl"
   ]
  },
  {
   "cell_type": "code",
   "execution_count": 4,
   "id": "bd81aed8",
   "metadata": {},
   "outputs": [],
   "source": [
    "cache_dir = ''\n",
    "\n",
    "model_id = \"./TinyLlama/TinyLlama_v1.1\"\n",
    "new_model = \"./llmat/TinyLlama-1.1B_SFT\""
   ]
  },
  {
   "cell_type": "code",
   "execution_count": 5,
   "id": "abf34444",
   "metadata": {},
   "outputs": [],
   "source": [
    "## monitor gpu activity\n",
    "# watch -n 0.5 nvidia-smi"
   ]
  },
  {
   "cell_type": "markdown",
   "id": "de96619d",
   "metadata": {},
   "source": [
    "## Load the Model and Tokenizer for LoRA"
   ]
  },
  {
   "cell_type": "code",
   "execution_count": 6,
   "id": "6f7c0c5d",
   "metadata": {
    "scrolled": true
   },
   "outputs": [
    {
     "name": "stdout",
     "output_type": "stream",
     "text": [
      "in oss file\n"
     ]
    }
   ],
   "source": [
    "from transformers import AutoTokenizer, AutoModelForCausalLM, BitsAndBytesConfig\n",
    "import torch\n",
    "\n",
    "bnb_config = BitsAndBytesConfig(\n",
    "    load_in_4bit=True,\n",
    "    bnb_4bit_use_double_quant=True,\n",
    "    bnb_4bit_quant_type='nf4',\n",
    "    bnb_4bit_compute_dtype=torch.bfloat16\n",
    ")\n",
    "\n",
    "model = AutoModelForCausalLM.from_pretrained(\n",
    "    model_id,\n",
    "    #config=config,\n",
    "    #quantization_config=bnb_config,\n",
    "    #rope_scaling={'type': 'Linear', 'factor': 2.0},\n",
    "    device_map='auto',\n",
    "    attn_implementation = \"flash_attention_2\",\n",
    "    torch_dtype=torch.bfloat16,\n",
    "    cache_dir=cache_dir\n",
    ")\n",
    "\n",
    "tokenizer = AutoTokenizer.from_pretrained(model_id, use_fast=True, trust_remote_code=True, cache_dir=cache_dir)\n"
   ]
  },
  {
   "cell_type": "markdown",
   "id": "d4e434c1",
   "metadata": {},
   "source": [
    "## Loading Checks"
   ]
  },
  {
   "cell_type": "code",
   "execution_count": 7,
   "id": "9bde9c27",
   "metadata": {},
   "outputs": [],
   "source": [
    "# Check there are no parameters overflowing onto cpu (meta).\n",
    "for n, p in model.named_parameters():\n",
    "    if p.device.type=='meta':\n",
    "        print(f\"{n} is on meta!\")"
   ]
  },
  {
   "cell_type": "code",
   "execution_count": 8,
   "id": "ea0b250a",
   "metadata": {},
   "outputs": [
    {
     "name": "stdout",
     "output_type": "stream",
     "text": [
      "2048\n",
      "2\n"
     ]
    }
   ],
   "source": [
    "print(model.config.max_position_embeddings)\n",
    "print(model.config.eos_token_id)"
   ]
  },
  {
   "cell_type": "markdown",
   "id": "e28d74c1",
   "metadata": {},
   "source": [
    "# Prepare for LoRA fine-tuning"
   ]
  },
  {
   "cell_type": "code",
   "execution_count": 9,
   "id": "32575f12",
   "metadata": {},
   "outputs": [],
   "source": [
    "def print_trainable_parameters(model):\n",
    "    \"\"\"\n",
    "    Prints the number of trainablöe parameters in the model and lists which parameters\n",
    "    \"\"\"\n",
    "    trainable_params = 0\n",
    "    non_trainable_params = 0\n",
    "    all_params = 0\n",
    "\n",
    "    print(\"Trainable Parameters\")\n",
    "    for name, param in model.named_parameters():\n",
    "        all_params += param.numel()\n",
    "        if param.requires_grad:\n",
    "            trainable_params += param.numel()\n",
    "            print(f\" {name}\")\n",
    "        else:\n",
    "            non_trainable_params += param.numel()\n",
    "\n",
    "    print(\"\\nNon-Trainable Parameters:\")\n",
    "    for name, param in model.named_parameters():\n",
    "        if not param.requires_grad:\n",
    "            print(f\" {name}\")\n",
    "\n",
    "    print(\n",
    "        f\"\\nSummary:\\n Trainable params: {trainable_params}\\n Non-Trainable params: {non_trainable_params}\\n All Parameters: {all_params}\")\n",
    "        "
   ]
  },
  {
   "cell_type": "markdown",
   "id": "61e3d49e",
   "metadata": {},
   "source": [
    "# Standard LoRA"
   ]
  },
  {
   "cell_type": "code",
   "execution_count": 10,
   "id": "9d73a99f",
   "metadata": {},
   "outputs": [
    {
     "name": "stdout",
     "output_type": "stream",
     "text": [
      "LlamaForCausalLM(\n",
      "  (model): LlamaModel(\n",
      "    (embed_tokens): Embedding(32000, 2048)\n",
      "    (layers): ModuleList(\n",
      "      (0-21): 22 x LlamaDecoderLayer(\n",
      "        (self_attn): LlamaFlashAttention2(\n",
      "          (q_proj): Linear(in_features=2048, out_features=2048, bias=False)\n",
      "          (k_proj): Linear(in_features=2048, out_features=256, bias=False)\n",
      "          (v_proj): Linear(in_features=2048, out_features=256, bias=False)\n",
      "          (o_proj): Linear(in_features=2048, out_features=2048, bias=False)\n",
      "          (rotary_emb): LlamaRotaryEmbedding()\n",
      "        )\n",
      "        (mlp): LlamaMLP(\n",
      "          (gate_proj): Linear(in_features=2048, out_features=5632, bias=False)\n",
      "          (up_proj): Linear(in_features=2048, out_features=5632, bias=False)\n",
      "          (down_proj): Linear(in_features=5632, out_features=2048, bias=False)\n",
      "          (act_fn): SiLU()\n",
      "        )\n",
      "        (input_layernorm): LlamaRMSNorm()\n",
      "        (post_attention_layernorm): LlamaRMSNorm()\n",
      "      )\n",
      "    )\n",
      "    (norm): LlamaRMSNorm()\n",
      "  )\n",
      "  (lm_head): Linear(in_features=2048, out_features=32000, bias=False)\n",
      ")\n"
     ]
    }
   ],
   "source": [
    "print(model)"
   ]
  },
  {
   "cell_type": "code",
   "execution_count": 11,
   "id": "29118ea8",
   "metadata": {},
   "outputs": [],
   "source": [
    "from peft import prepare_model_for_kbit_training\n",
    "\n",
    "model.gradient_checkpointing_enable() # Comment this in to save VRAM\n",
    "# model = prepare_model_for_kbit_training(model) # only set this if using quantization\n",
    "\n",
    "from peft import LoraConfig, get_peft_model\n",
    "\n",
    "peft_config = LoraConfig( # matching the Llama recipe\n",
    "    r=8,\n",
    "    lora_alpha=32,\n",
    "    target_modules=[\n",
    "        \"q_proj\",\n",
    "        \"k_proj\",\n",
    "        \"v_proj\",\n",
    "        \"o_proj\",\n",
    "        # \"self_attn.rotary_emb.inv_freq\",\n",
    "        \"gate_proj\",\n",
    "        \"up_proj\",\n",
    "        \"down_proj\",\n",
    "        \"lm_head\", # Language model head - best to set this trainable if chat fine-tuning\n",
    "        #\"lora_magnitude_vector\", # required for DoRA\n",
    "        #\"input_layernorm.weight\", #can't be lora fine-tuned as it's not a linear layer\n",
    "        #\"post_attention_layernorm.weights, #can't be lora fine-tuned as it's not a linear layer\n",
    "        #\"model.norm.weight\", #can't be lora fine-tuned as it's not a linear layer\n",
    "        #\"dense_h_to_4h\", # for falcon\n",
    "        #\"dense_4h_to_h\", # for falcon\n",
    "        #\"query_key_value\", # for falcon\n",
    "        #\"dense\", # for falcon\n",
    "    ],\n",
    "    lora_dropout=0.1,\n",
    "    bias=\"none\",\n",
    "    task_type=\"CAUSAL_LM\",\n",
    "    #use_dora=True # only for DoRA\n",
    ")\n",
    "\n",
    "model = get_peft_model(model, peft_config) # move to a peft model"
   ]
  },
  {
   "cell_type": "markdown",
   "id": "71234548",
   "metadata": {},
   "source": [
    "# Set up Tokenizer and Padding"
   ]
  },
  {
   "cell_type": "code",
   "execution_count": 12,
   "id": "1af1d5a8",
   "metadata": {},
   "outputs": [
    {
     "name": "stdout",
     "output_type": "stream",
     "text": [
      "LlamaTokenizerFast(name_or_path='./TinyLlama/TinyLlama_v1.1', vocab_size=32000, model_max_length=1000000000000000019884624838656, is_fast=True, padding_side='right', truncation_side='right', special_tokens={'bos_token': '<s>', 'eos_token': '</s>', 'unk_token': '<unk>'}, clean_up_tokenization_spaces=False),  added_tokens_decoder={\n",
      "\t0: AddedToken(\"<unk>\", rstrip=False, lstrip=False, single_word=False, normalized=False, special=True),\n",
      "\t1: AddedToken(\"<s>\", rstrip=False, lstrip=False, single_word=False, normalized=False, special=True),\n",
      "\t2: AddedToken(\"</s>\", rstrip=False, lstrip=False, single_word=False, normalized=False, special=True),\n",
      "}\n",
      "32000\n"
     ]
    }
   ],
   "source": [
    "print(tokenizer)\n",
    "print(tokenizer.vocab_size)"
   ]
  },
  {
   "cell_type": "code",
   "execution_count": 13,
   "id": "00389537",
   "metadata": {},
   "outputs": [
    {
     "name": "stdout",
     "output_type": "stream",
     "text": [
      "<s>\n",
      "</s>\n"
     ]
    }
   ],
   "source": [
    "print(tokenizer.bos_token)\n",
    "print(tokenizer.eos_token)"
   ]
  },
  {
   "cell_type": "code",
   "execution_count": 14,
   "id": "e8a5ff87",
   "metadata": {},
   "outputs": [
    {
     "name": "stdout",
     "output_type": "stream",
     "text": [
      "None\n"
     ]
    }
   ],
   "source": [
    "print(tokenizer.chat_template)"
   ]
  },
  {
   "cell_type": "code",
   "execution_count": 15,
   "id": "d19f5a21",
   "metadata": {
    "scrolled": true
   },
   "outputs": [
    {
     "name": "stdout",
     "output_type": "stream",
     "text": [
      "<s>[INST] write a quick sorf algorithm in python. [/INST]here you are.</s>[INST] great. [/INST]\n"
     ]
    }
   ],
   "source": [
    "# OPTIONALLY SET THE CHAT TEMPLATE MANUALLY\n",
    "# Llama/Mistral template. NOTE: This is a special chat template that includes a check to add a beginning-of-sequence token (bos_token) if the first message in the conversation is not from the assistant. This is done to ensure that the conversation starts correctly depending on the initial message role.\n",
    "# This is done because we are separatly format the chosen and rejected responses. When we do that there is not going to be a user message at the beginning and do not want to add an extra bos_token before the response\n",
    "tokenizer.chat_template = \"\"\"{% if messages[0]['role'] != 'assistant' %}{{ bos_token }}{% endif %}{% for message in messages %}{% if message['role'] == 'user' %}{{ '[INST] ' + message['content'] + ' [/INST]' }}{% elif message['role'] == 'assistant' %}{{ message['content'] + eos_token }}{% endif %}{% endfor %}\n",
    "\"\"\"\n",
    "\n",
    "messages = [\n",
    "    {'role': 'user', 'content': 'write a quick sorf algorithm in python.'},\n",
    "    {'role': 'assistant', 'content': 'here you are.'},\n",
    "    {'role': 'user', 'content': 'great.'},\n",
    "]\n",
    "\n",
    "inputs = tokenizer.apply_chat_template(messages, tokenize=False)\n",
    "print(inputs)"
   ]
  },
  {
   "cell_type": "code",
   "execution_count": 16,
   "id": "5a6fa077",
   "metadata": {},
   "outputs": [
    {
     "name": "stdout",
     "output_type": "stream",
     "text": [
      "<unk> token is in the tokenizer. Using for <unk> for pad\n"
     ]
    }
   ],
   "source": [
    "## Option A - set the pad token to <pad>, if not <|pad|>, if not <unk> if <unk>\n",
    "if '<pad>' in tokenizer.get_vocab():\n",
    "    print('<pad> token is is in the tokenizer. Usinh <pad> for pad')\n",
    "    #Set the pad token\n",
    "    tokenizer.pad_token = '<pad>'\n",
    "elif '<|pad|>' in tokenizer.get_vocab():\n",
    "    print('<|pad|> token is in the tokenizer. Using for <|pad|> for pad')\n",
    "    # Set the pad token\n",
    "    tokenizer.pad_token = '<|pad|>'\n",
    "elif '<unk>' in tokenizer.get_vocab():\n",
    "    print('<unk> token is in the tokenizer. Using for <unk> for pad')\n",
    "    # Set the pad token\n",
    "    tokenizer.pad_token = '<unk>'\n",
    "else:\n",
    "    print(f'Using EOS token, {tokenizer.eos_token}, for padding. Warning, this ')\n",
    "    tokenizer.pad_token = tokenizer.eos_token"
   ]
  },
  {
   "cell_type": "code",
   "execution_count": 18,
   "id": "50ca72b5",
   "metadata": {},
   "outputs": [
    {
     "name": "stdout",
     "output_type": "stream",
     "text": [
      "Tokenizer pad token ID: 0\n",
      "Model pad token ID: 0\n",
      "Model config pad token ID: 0\n",
      "Number of tokens now in tokenizer: 32000\n"
     ]
    }
   ],
   "source": [
    "# Update pad token id in model and its config\n",
    "model.pad_token_id = tokenizer.pad_token_id\n",
    "model.config.pad_token_id = tokenizer.pad_token_id\n",
    "\n",
    "# Check if they are equal\n",
    "assert model.pad_token_id == tokenizer.pad_token_id, \"The model's pat token ID are not equal\"\n",
    "\n",
    "# Print the pad token ids\n",
    "print('Tokenizer pad token ID:', tokenizer.pad_token_id)\n",
    "print('Model pad token ID:', model.pad_token_id)\n",
    "print('Model config pad token ID:', model.config.pad_token_id)\n",
    "print('Number of tokens now in tokenizer:', tokenizer.vocab_size)\n"
   ]
  },
  {
   "cell_type": "code",
   "execution_count": 19,
   "id": "2d59da02",
   "metadata": {},
   "outputs": [
    {
     "name": "stdout",
     "output_type": "stream",
     "text": [
      "Special tokens map: {'bos_token': '<s>', 'eos_token': '</s>', 'unk_token': '<unk>', 'pad_token': '<unk>'}\n",
      "All special tokens: ['<s>', '</s>', '<unk>']\n"
     ]
    }
   ],
   "source": [
    "print('Special tokens map:', tokenizer.special_tokens_map)\n",
    "print('All special tokens:', tokenizer.all_special_tokens)"
   ]
  },
  {
   "cell_type": "code",
   "execution_count": 20,
   "id": "dd1f2f51",
   "metadata": {},
   "outputs": [],
   "source": [
    "#  Uncomment to switch to left padding, not recommende for unsloth.\n",
    "# tokenizer.padding_side = 'left'"
   ]
  },
  {
   "cell_type": "code",
   "execution_count": 21,
   "id": "c3b419ff",
   "metadata": {},
   "outputs": [
    {
     "name": "stdout",
     "output_type": "stream",
     "text": [
      "LlamaTokenizerFast(name_or_path='./TinyLlama/TinyLlama_v1.1', vocab_size=32000, model_max_length=1000000000000000019884624838656, is_fast=True, padding_side='right', truncation_side='right', special_tokens={'bos_token': '<s>', 'eos_token': '</s>', 'unk_token': '<unk>', 'pad_token': '<unk>'}, clean_up_tokenization_spaces=False),  added_tokens_decoder={\n",
      "\t0: AddedToken(\"<unk>\", rstrip=False, lstrip=False, single_word=False, normalized=False, special=True),\n",
      "\t1: AddedToken(\"<s>\", rstrip=False, lstrip=False, single_word=False, normalized=False, special=True),\n",
      "\t2: AddedToken(\"</s>\", rstrip=False, lstrip=False, single_word=False, normalized=False, special=True),\n",
      "}\n"
     ]
    }
   ],
   "source": [
    "print(tokenizer)"
   ]
  },
  {
   "cell_type": "markdown",
   "id": "55373097",
   "metadata": {},
   "source": [
    "# Set embed and norm layers to trainable (recommended for chat fine-tuning if you are changing the template)"
   ]
  },
  {
   "cell_type": "code",
   "execution_count": 22,
   "id": "b0837bc1",
   "metadata": {},
   "outputs": [
    {
     "name": "stdout",
     "output_type": "stream",
     "text": [
      "PeftModelForCausalLM(\n",
      "  (base_model): LoraModel(\n",
      "    (model): LlamaForCausalLM(\n",
      "      (model): LlamaModel(\n",
      "        (embed_tokens): Embedding(32000, 2048)\n",
      "        (layers): ModuleList(\n",
      "          (0-21): 22 x LlamaDecoderLayer(\n",
      "            (self_attn): LlamaFlashAttention2(\n",
      "              (q_proj): lora.Linear(\n",
      "                (base_layer): Linear(in_features=2048, out_features=2048, bias=False)\n",
      "                (lora_dropout): ModuleDict(\n",
      "                  (default): Dropout(p=0.1, inplace=False)\n",
      "                )\n",
      "                (lora_A): ModuleDict(\n",
      "                  (default): Linear(in_features=2048, out_features=8, bias=False)\n",
      "                )\n",
      "                (lora_B): ModuleDict(\n",
      "                  (default): Linear(in_features=8, out_features=2048, bias=False)\n",
      "                )\n",
      "                (lora_embedding_A): ParameterDict()\n",
      "                (lora_embedding_B): ParameterDict()\n",
      "              )\n",
      "              (k_proj): lora.Linear(\n",
      "                (base_layer): Linear(in_features=2048, out_features=256, bias=False)\n",
      "                (lora_dropout): ModuleDict(\n",
      "                  (default): Dropout(p=0.1, inplace=False)\n",
      "                )\n",
      "                (lora_A): ModuleDict(\n",
      "                  (default): Linear(in_features=2048, out_features=8, bias=False)\n",
      "                )\n",
      "                (lora_B): ModuleDict(\n",
      "                  (default): Linear(in_features=8, out_features=256, bias=False)\n",
      "                )\n",
      "                (lora_embedding_A): ParameterDict()\n",
      "                (lora_embedding_B): ParameterDict()\n",
      "              )\n",
      "              (v_proj): lora.Linear(\n",
      "                (base_layer): Linear(in_features=2048, out_features=256, bias=False)\n",
      "                (lora_dropout): ModuleDict(\n",
      "                  (default): Dropout(p=0.1, inplace=False)\n",
      "                )\n",
      "                (lora_A): ModuleDict(\n",
      "                  (default): Linear(in_features=2048, out_features=8, bias=False)\n",
      "                )\n",
      "                (lora_B): ModuleDict(\n",
      "                  (default): Linear(in_features=8, out_features=256, bias=False)\n",
      "                )\n",
      "                (lora_embedding_A): ParameterDict()\n",
      "                (lora_embedding_B): ParameterDict()\n",
      "              )\n",
      "              (o_proj): lora.Linear(\n",
      "                (base_layer): Linear(in_features=2048, out_features=2048, bias=False)\n",
      "                (lora_dropout): ModuleDict(\n",
      "                  (default): Dropout(p=0.1, inplace=False)\n",
      "                )\n",
      "                (lora_A): ModuleDict(\n",
      "                  (default): Linear(in_features=2048, out_features=8, bias=False)\n",
      "                )\n",
      "                (lora_B): ModuleDict(\n",
      "                  (default): Linear(in_features=8, out_features=2048, bias=False)\n",
      "                )\n",
      "                (lora_embedding_A): ParameterDict()\n",
      "                (lora_embedding_B): ParameterDict()\n",
      "              )\n",
      "              (rotary_emb): LlamaRotaryEmbedding()\n",
      "            )\n",
      "            (mlp): LlamaMLP(\n",
      "              (gate_proj): lora.Linear(\n",
      "                (base_layer): Linear(in_features=2048, out_features=5632, bias=False)\n",
      "                (lora_dropout): ModuleDict(\n",
      "                  (default): Dropout(p=0.1, inplace=False)\n",
      "                )\n",
      "                (lora_A): ModuleDict(\n",
      "                  (default): Linear(in_features=2048, out_features=8, bias=False)\n",
      "                )\n",
      "                (lora_B): ModuleDict(\n",
      "                  (default): Linear(in_features=8, out_features=5632, bias=False)\n",
      "                )\n",
      "                (lora_embedding_A): ParameterDict()\n",
      "                (lora_embedding_B): ParameterDict()\n",
      "              )\n",
      "              (up_proj): lora.Linear(\n",
      "                (base_layer): Linear(in_features=2048, out_features=5632, bias=False)\n",
      "                (lora_dropout): ModuleDict(\n",
      "                  (default): Dropout(p=0.1, inplace=False)\n",
      "                )\n",
      "                (lora_A): ModuleDict(\n",
      "                  (default): Linear(in_features=2048, out_features=8, bias=False)\n",
      "                )\n",
      "                (lora_B): ModuleDict(\n",
      "                  (default): Linear(in_features=8, out_features=5632, bias=False)\n",
      "                )\n",
      "                (lora_embedding_A): ParameterDict()\n",
      "                (lora_embedding_B): ParameterDict()\n",
      "              )\n",
      "              (down_proj): lora.Linear(\n",
      "                (base_layer): Linear(in_features=5632, out_features=2048, bias=False)\n",
      "                (lora_dropout): ModuleDict(\n",
      "                  (default): Dropout(p=0.1, inplace=False)\n",
      "                )\n",
      "                (lora_A): ModuleDict(\n",
      "                  (default): Linear(in_features=5632, out_features=8, bias=False)\n",
      "                )\n",
      "                (lora_B): ModuleDict(\n",
      "                  (default): Linear(in_features=8, out_features=2048, bias=False)\n",
      "                )\n",
      "                (lora_embedding_A): ParameterDict()\n",
      "                (lora_embedding_B): ParameterDict()\n",
      "              )\n",
      "              (act_fn): SiLU()\n",
      "            )\n",
      "            (input_layernorm): LlamaRMSNorm()\n",
      "            (post_attention_layernorm): LlamaRMSNorm()\n",
      "          )\n",
      "        )\n",
      "        (norm): LlamaRMSNorm()\n",
      "      )\n",
      "      (lm_head): lora.Linear(\n",
      "        (base_layer): Linear(in_features=2048, out_features=32000, bias=False)\n",
      "        (lora_dropout): ModuleDict(\n",
      "          (default): Dropout(p=0.1, inplace=False)\n",
      "        )\n",
      "        (lora_A): ModuleDict(\n",
      "          (default): Linear(in_features=2048, out_features=8, bias=False)\n",
      "        )\n",
      "        (lora_B): ModuleDict(\n",
      "          (default): Linear(in_features=8, out_features=32000, bias=False)\n",
      "        )\n",
      "        (lora_embedding_A): ParameterDict()\n",
      "        (lora_embedding_B): ParameterDict()\n",
      "      )\n",
      "    )\n",
      "  )\n",
      ")\n"
     ]
    }
   ],
   "source": [
    "print(model)"
   ]
  },
  {
   "cell_type": "code",
   "execution_count": 23,
   "id": "1b8a6fc8",
   "metadata": {},
   "outputs": [],
   "source": [
    "# List to hold the names of the trainable parameters\n",
    "# trainable_params_names = ['word_embeddings', 'input_layernorm', 'ln_f'] # for Falcon\n",
    "trainable_params_names = ['embed_tokens', 'input_layernorm', 'post_attention_layernorm', 'norm']\n",
    "# trainable_params_names = ['embed', 'norm'] # for DeepSeek Coder\n",
    "\n",
    "# Set modules to be trainable\n",
    "for n, p in model.named_parameters():\n",
    "    if any(k in n for k in trainable_params_names):\n",
    "        p.requires_grad_(True)\n",
    "    else:\n",
    "        p.requires_grad_(False) # Optional: Set the rest to be trainable\n",
    "\n",
    "# Make a dictionary of trainable parameters\n",
    "trainable_params = {n: p for n, p in model.named_parameters() if p.requires_grad}\n",
    "\n",
    "# Convert trainable_params to state_dict format\n",
    "trainable_params_state_dict = {n: p.data for n, p in trainable_params.items()}"
   ]
  },
  {
   "cell_type": "code",
   "execution_count": 24,
   "id": "98e7582d",
   "metadata": {
    "scrolled": true
   },
   "outputs": [
    {
     "name": "stdout",
     "output_type": "stream",
     "text": [
      "Trainable Parameters\n",
      " base_model.model.model.embed_tokens.weight\n",
      " base_model.model.model.layers.0.input_layernorm.weight\n",
      " base_model.model.model.layers.0.post_attention_layernorm.weight\n",
      " base_model.model.model.layers.1.input_layernorm.weight\n",
      " base_model.model.model.layers.1.post_attention_layernorm.weight\n",
      " base_model.model.model.layers.2.input_layernorm.weight\n",
      " base_model.model.model.layers.2.post_attention_layernorm.weight\n",
      " base_model.model.model.layers.3.input_layernorm.weight\n",
      " base_model.model.model.layers.3.post_attention_layernorm.weight\n",
      " base_model.model.model.layers.4.input_layernorm.weight\n",
      " base_model.model.model.layers.4.post_attention_layernorm.weight\n",
      " base_model.model.model.layers.5.input_layernorm.weight\n",
      " base_model.model.model.layers.5.post_attention_layernorm.weight\n",
      " base_model.model.model.layers.6.input_layernorm.weight\n",
      " base_model.model.model.layers.6.post_attention_layernorm.weight\n",
      " base_model.model.model.layers.7.input_layernorm.weight\n",
      " base_model.model.model.layers.7.post_attention_layernorm.weight\n",
      " base_model.model.model.layers.8.input_layernorm.weight\n",
      " base_model.model.model.layers.8.post_attention_layernorm.weight\n",
      " base_model.model.model.layers.9.input_layernorm.weight\n",
      " base_model.model.model.layers.9.post_attention_layernorm.weight\n",
      " base_model.model.model.layers.10.input_layernorm.weight\n",
      " base_model.model.model.layers.10.post_attention_layernorm.weight\n",
      " base_model.model.model.layers.11.input_layernorm.weight\n",
      " base_model.model.model.layers.11.post_attention_layernorm.weight\n",
      " base_model.model.model.layers.12.input_layernorm.weight\n",
      " base_model.model.model.layers.12.post_attention_layernorm.weight\n",
      " base_model.model.model.layers.13.input_layernorm.weight\n",
      " base_model.model.model.layers.13.post_attention_layernorm.weight\n",
      " base_model.model.model.layers.14.input_layernorm.weight\n",
      " base_model.model.model.layers.14.post_attention_layernorm.weight\n",
      " base_model.model.model.layers.15.input_layernorm.weight\n",
      " base_model.model.model.layers.15.post_attention_layernorm.weight\n",
      " base_model.model.model.layers.16.input_layernorm.weight\n",
      " base_model.model.model.layers.16.post_attention_layernorm.weight\n",
      " base_model.model.model.layers.17.input_layernorm.weight\n",
      " base_model.model.model.layers.17.post_attention_layernorm.weight\n",
      " base_model.model.model.layers.18.input_layernorm.weight\n",
      " base_model.model.model.layers.18.post_attention_layernorm.weight\n",
      " base_model.model.model.layers.19.input_layernorm.weight\n",
      " base_model.model.model.layers.19.post_attention_layernorm.weight\n",
      " base_model.model.model.layers.20.input_layernorm.weight\n",
      " base_model.model.model.layers.20.post_attention_layernorm.weight\n",
      " base_model.model.model.layers.21.input_layernorm.weight\n",
      " base_model.model.model.layers.21.post_attention_layernorm.weight\n",
      " base_model.model.model.norm.weight\n",
      "\n",
      "Non-Trainable Parameters:\n",
      " base_model.model.model.layers.0.self_attn.q_proj.base_layer.weight\n",
      " base_model.model.model.layers.0.self_attn.q_proj.lora_A.default.weight\n",
      " base_model.model.model.layers.0.self_attn.q_proj.lora_B.default.weight\n",
      " base_model.model.model.layers.0.self_attn.k_proj.base_layer.weight\n",
      " base_model.model.model.layers.0.self_attn.k_proj.lora_A.default.weight\n",
      " base_model.model.model.layers.0.self_attn.k_proj.lora_B.default.weight\n",
      " base_model.model.model.layers.0.self_attn.v_proj.base_layer.weight\n",
      " base_model.model.model.layers.0.self_attn.v_proj.lora_A.default.weight\n",
      " base_model.model.model.layers.0.self_attn.v_proj.lora_B.default.weight\n",
      " base_model.model.model.layers.0.self_attn.o_proj.base_layer.weight\n",
      " base_model.model.model.layers.0.self_attn.o_proj.lora_A.default.weight\n",
      " base_model.model.model.layers.0.self_attn.o_proj.lora_B.default.weight\n",
      " base_model.model.model.layers.0.mlp.gate_proj.base_layer.weight\n",
      " base_model.model.model.layers.0.mlp.gate_proj.lora_A.default.weight\n",
      " base_model.model.model.layers.0.mlp.gate_proj.lora_B.default.weight\n",
      " base_model.model.model.layers.0.mlp.up_proj.base_layer.weight\n",
      " base_model.model.model.layers.0.mlp.up_proj.lora_A.default.weight\n",
      " base_model.model.model.layers.0.mlp.up_proj.lora_B.default.weight\n",
      " base_model.model.model.layers.0.mlp.down_proj.base_layer.weight\n",
      " base_model.model.model.layers.0.mlp.down_proj.lora_A.default.weight\n",
      " base_model.model.model.layers.0.mlp.down_proj.lora_B.default.weight\n",
      " base_model.model.model.layers.1.self_attn.q_proj.base_layer.weight\n",
      " base_model.model.model.layers.1.self_attn.q_proj.lora_A.default.weight\n",
      " base_model.model.model.layers.1.self_attn.q_proj.lora_B.default.weight\n",
      " base_model.model.model.layers.1.self_attn.k_proj.base_layer.weight\n",
      " base_model.model.model.layers.1.self_attn.k_proj.lora_A.default.weight\n",
      " base_model.model.model.layers.1.self_attn.k_proj.lora_B.default.weight\n",
      " base_model.model.model.layers.1.self_attn.v_proj.base_layer.weight\n",
      " base_model.model.model.layers.1.self_attn.v_proj.lora_A.default.weight\n",
      " base_model.model.model.layers.1.self_attn.v_proj.lora_B.default.weight\n",
      " base_model.model.model.layers.1.self_attn.o_proj.base_layer.weight\n",
      " base_model.model.model.layers.1.self_attn.o_proj.lora_A.default.weight\n",
      " base_model.model.model.layers.1.self_attn.o_proj.lora_B.default.weight\n",
      " base_model.model.model.layers.1.mlp.gate_proj.base_layer.weight\n",
      " base_model.model.model.layers.1.mlp.gate_proj.lora_A.default.weight\n",
      " base_model.model.model.layers.1.mlp.gate_proj.lora_B.default.weight\n",
      " base_model.model.model.layers.1.mlp.up_proj.base_layer.weight\n",
      " base_model.model.model.layers.1.mlp.up_proj.lora_A.default.weight\n",
      " base_model.model.model.layers.1.mlp.up_proj.lora_B.default.weight\n",
      " base_model.model.model.layers.1.mlp.down_proj.base_layer.weight\n",
      " base_model.model.model.layers.1.mlp.down_proj.lora_A.default.weight\n",
      " base_model.model.model.layers.1.mlp.down_proj.lora_B.default.weight\n",
      " base_model.model.model.layers.2.self_attn.q_proj.base_layer.weight\n",
      " base_model.model.model.layers.2.self_attn.q_proj.lora_A.default.weight\n",
      " base_model.model.model.layers.2.self_attn.q_proj.lora_B.default.weight\n",
      " base_model.model.model.layers.2.self_attn.k_proj.base_layer.weight\n",
      " base_model.model.model.layers.2.self_attn.k_proj.lora_A.default.weight\n",
      " base_model.model.model.layers.2.self_attn.k_proj.lora_B.default.weight\n",
      " base_model.model.model.layers.2.self_attn.v_proj.base_layer.weight\n",
      " base_model.model.model.layers.2.self_attn.v_proj.lora_A.default.weight\n",
      " base_model.model.model.layers.2.self_attn.v_proj.lora_B.default.weight\n",
      " base_model.model.model.layers.2.self_attn.o_proj.base_layer.weight\n",
      " base_model.model.model.layers.2.self_attn.o_proj.lora_A.default.weight\n",
      " base_model.model.model.layers.2.self_attn.o_proj.lora_B.default.weight\n",
      " base_model.model.model.layers.2.mlp.gate_proj.base_layer.weight\n",
      " base_model.model.model.layers.2.mlp.gate_proj.lora_A.default.weight\n",
      " base_model.model.model.layers.2.mlp.gate_proj.lora_B.default.weight\n",
      " base_model.model.model.layers.2.mlp.up_proj.base_layer.weight\n",
      " base_model.model.model.layers.2.mlp.up_proj.lora_A.default.weight\n",
      " base_model.model.model.layers.2.mlp.up_proj.lora_B.default.weight\n",
      " base_model.model.model.layers.2.mlp.down_proj.base_layer.weight\n",
      " base_model.model.model.layers.2.mlp.down_proj.lora_A.default.weight\n",
      " base_model.model.model.layers.2.mlp.down_proj.lora_B.default.weight\n",
      " base_model.model.model.layers.3.self_attn.q_proj.base_layer.weight\n",
      " base_model.model.model.layers.3.self_attn.q_proj.lora_A.default.weight\n",
      " base_model.model.model.layers.3.self_attn.q_proj.lora_B.default.weight\n",
      " base_model.model.model.layers.3.self_attn.k_proj.base_layer.weight\n",
      " base_model.model.model.layers.3.self_attn.k_proj.lora_A.default.weight\n",
      " base_model.model.model.layers.3.self_attn.k_proj.lora_B.default.weight\n",
      " base_model.model.model.layers.3.self_attn.v_proj.base_layer.weight\n",
      " base_model.model.model.layers.3.self_attn.v_proj.lora_A.default.weight\n",
      " base_model.model.model.layers.3.self_attn.v_proj.lora_B.default.weight\n",
      " base_model.model.model.layers.3.self_attn.o_proj.base_layer.weight\n",
      " base_model.model.model.layers.3.self_attn.o_proj.lora_A.default.weight\n",
      " base_model.model.model.layers.3.self_attn.o_proj.lora_B.default.weight\n",
      " base_model.model.model.layers.3.mlp.gate_proj.base_layer.weight\n",
      " base_model.model.model.layers.3.mlp.gate_proj.lora_A.default.weight\n",
      " base_model.model.model.layers.3.mlp.gate_proj.lora_B.default.weight\n",
      " base_model.model.model.layers.3.mlp.up_proj.base_layer.weight\n",
      " base_model.model.model.layers.3.mlp.up_proj.lora_A.default.weight\n",
      " base_model.model.model.layers.3.mlp.up_proj.lora_B.default.weight\n",
      " base_model.model.model.layers.3.mlp.down_proj.base_layer.weight\n",
      " base_model.model.model.layers.3.mlp.down_proj.lora_A.default.weight\n",
      " base_model.model.model.layers.3.mlp.down_proj.lora_B.default.weight\n",
      " base_model.model.model.layers.4.self_attn.q_proj.base_layer.weight\n",
      " base_model.model.model.layers.4.self_attn.q_proj.lora_A.default.weight\n",
      " base_model.model.model.layers.4.self_attn.q_proj.lora_B.default.weight\n",
      " base_model.model.model.layers.4.self_attn.k_proj.base_layer.weight\n",
      " base_model.model.model.layers.4.self_attn.k_proj.lora_A.default.weight\n",
      " base_model.model.model.layers.4.self_attn.k_proj.lora_B.default.weight\n",
      " base_model.model.model.layers.4.self_attn.v_proj.base_layer.weight\n",
      " base_model.model.model.layers.4.self_attn.v_proj.lora_A.default.weight\n",
      " base_model.model.model.layers.4.self_attn.v_proj.lora_B.default.weight\n",
      " base_model.model.model.layers.4.self_attn.o_proj.base_layer.weight\n",
      " base_model.model.model.layers.4.self_attn.o_proj.lora_A.default.weight\n",
      " base_model.model.model.layers.4.self_attn.o_proj.lora_B.default.weight\n",
      " base_model.model.model.layers.4.mlp.gate_proj.base_layer.weight\n",
      " base_model.model.model.layers.4.mlp.gate_proj.lora_A.default.weight\n",
      " base_model.model.model.layers.4.mlp.gate_proj.lora_B.default.weight\n",
      " base_model.model.model.layers.4.mlp.up_proj.base_layer.weight\n",
      " base_model.model.model.layers.4.mlp.up_proj.lora_A.default.weight\n",
      " base_model.model.model.layers.4.mlp.up_proj.lora_B.default.weight\n",
      " base_model.model.model.layers.4.mlp.down_proj.base_layer.weight\n",
      " base_model.model.model.layers.4.mlp.down_proj.lora_A.default.weight\n",
      " base_model.model.model.layers.4.mlp.down_proj.lora_B.default.weight\n",
      " base_model.model.model.layers.5.self_attn.q_proj.base_layer.weight\n",
      " base_model.model.model.layers.5.self_attn.q_proj.lora_A.default.weight\n",
      " base_model.model.model.layers.5.self_attn.q_proj.lora_B.default.weight\n",
      " base_model.model.model.layers.5.self_attn.k_proj.base_layer.weight\n",
      " base_model.model.model.layers.5.self_attn.k_proj.lora_A.default.weight\n",
      " base_model.model.model.layers.5.self_attn.k_proj.lora_B.default.weight\n",
      " base_model.model.model.layers.5.self_attn.v_proj.base_layer.weight\n",
      " base_model.model.model.layers.5.self_attn.v_proj.lora_A.default.weight\n",
      " base_model.model.model.layers.5.self_attn.v_proj.lora_B.default.weight\n",
      " base_model.model.model.layers.5.self_attn.o_proj.base_layer.weight\n",
      " base_model.model.model.layers.5.self_attn.o_proj.lora_A.default.weight\n",
      " base_model.model.model.layers.5.self_attn.o_proj.lora_B.default.weight\n",
      " base_model.model.model.layers.5.mlp.gate_proj.base_layer.weight\n",
      " base_model.model.model.layers.5.mlp.gate_proj.lora_A.default.weight\n",
      " base_model.model.model.layers.5.mlp.gate_proj.lora_B.default.weight\n",
      " base_model.model.model.layers.5.mlp.up_proj.base_layer.weight\n",
      " base_model.model.model.layers.5.mlp.up_proj.lora_A.default.weight\n",
      " base_model.model.model.layers.5.mlp.up_proj.lora_B.default.weight\n",
      " base_model.model.model.layers.5.mlp.down_proj.base_layer.weight\n",
      " base_model.model.model.layers.5.mlp.down_proj.lora_A.default.weight\n",
      " base_model.model.model.layers.5.mlp.down_proj.lora_B.default.weight\n",
      " base_model.model.model.layers.6.self_attn.q_proj.base_layer.weight\n",
      " base_model.model.model.layers.6.self_attn.q_proj.lora_A.default.weight\n",
      " base_model.model.model.layers.6.self_attn.q_proj.lora_B.default.weight\n",
      " base_model.model.model.layers.6.self_attn.k_proj.base_layer.weight\n",
      " base_model.model.model.layers.6.self_attn.k_proj.lora_A.default.weight\n",
      " base_model.model.model.layers.6.self_attn.k_proj.lora_B.default.weight\n",
      " base_model.model.model.layers.6.self_attn.v_proj.base_layer.weight\n",
      " base_model.model.model.layers.6.self_attn.v_proj.lora_A.default.weight\n",
      " base_model.model.model.layers.6.self_attn.v_proj.lora_B.default.weight\n",
      " base_model.model.model.layers.6.self_attn.o_proj.base_layer.weight\n",
      " base_model.model.model.layers.6.self_attn.o_proj.lora_A.default.weight\n",
      " base_model.model.model.layers.6.self_attn.o_proj.lora_B.default.weight\n",
      " base_model.model.model.layers.6.mlp.gate_proj.base_layer.weight\n",
      " base_model.model.model.layers.6.mlp.gate_proj.lora_A.default.weight\n",
      " base_model.model.model.layers.6.mlp.gate_proj.lora_B.default.weight\n",
      " base_model.model.model.layers.6.mlp.up_proj.base_layer.weight\n",
      " base_model.model.model.layers.6.mlp.up_proj.lora_A.default.weight\n",
      " base_model.model.model.layers.6.mlp.up_proj.lora_B.default.weight\n",
      " base_model.model.model.layers.6.mlp.down_proj.base_layer.weight\n",
      " base_model.model.model.layers.6.mlp.down_proj.lora_A.default.weight\n",
      " base_model.model.model.layers.6.mlp.down_proj.lora_B.default.weight\n",
      " base_model.model.model.layers.7.self_attn.q_proj.base_layer.weight\n",
      " base_model.model.model.layers.7.self_attn.q_proj.lora_A.default.weight\n",
      " base_model.model.model.layers.7.self_attn.q_proj.lora_B.default.weight\n",
      " base_model.model.model.layers.7.self_attn.k_proj.base_layer.weight\n",
      " base_model.model.model.layers.7.self_attn.k_proj.lora_A.default.weight\n",
      " base_model.model.model.layers.7.self_attn.k_proj.lora_B.default.weight\n",
      " base_model.model.model.layers.7.self_attn.v_proj.base_layer.weight\n",
      " base_model.model.model.layers.7.self_attn.v_proj.lora_A.default.weight\n",
      " base_model.model.model.layers.7.self_attn.v_proj.lora_B.default.weight\n",
      " base_model.model.model.layers.7.self_attn.o_proj.base_layer.weight\n",
      " base_model.model.model.layers.7.self_attn.o_proj.lora_A.default.weight\n",
      " base_model.model.model.layers.7.self_attn.o_proj.lora_B.default.weight\n",
      " base_model.model.model.layers.7.mlp.gate_proj.base_layer.weight\n",
      " base_model.model.model.layers.7.mlp.gate_proj.lora_A.default.weight\n",
      " base_model.model.model.layers.7.mlp.gate_proj.lora_B.default.weight\n",
      " base_model.model.model.layers.7.mlp.up_proj.base_layer.weight\n",
      " base_model.model.model.layers.7.mlp.up_proj.lora_A.default.weight\n",
      " base_model.model.model.layers.7.mlp.up_proj.lora_B.default.weight\n",
      " base_model.model.model.layers.7.mlp.down_proj.base_layer.weight\n",
      " base_model.model.model.layers.7.mlp.down_proj.lora_A.default.weight\n",
      " base_model.model.model.layers.7.mlp.down_proj.lora_B.default.weight\n",
      " base_model.model.model.layers.8.self_attn.q_proj.base_layer.weight\n",
      " base_model.model.model.layers.8.self_attn.q_proj.lora_A.default.weight\n",
      " base_model.model.model.layers.8.self_attn.q_proj.lora_B.default.weight\n",
      " base_model.model.model.layers.8.self_attn.k_proj.base_layer.weight\n",
      " base_model.model.model.layers.8.self_attn.k_proj.lora_A.default.weight\n",
      " base_model.model.model.layers.8.self_attn.k_proj.lora_B.default.weight\n",
      " base_model.model.model.layers.8.self_attn.v_proj.base_layer.weight\n",
      " base_model.model.model.layers.8.self_attn.v_proj.lora_A.default.weight\n",
      " base_model.model.model.layers.8.self_attn.v_proj.lora_B.default.weight\n",
      " base_model.model.model.layers.8.self_attn.o_proj.base_layer.weight\n",
      " base_model.model.model.layers.8.self_attn.o_proj.lora_A.default.weight\n",
      " base_model.model.model.layers.8.self_attn.o_proj.lora_B.default.weight\n",
      " base_model.model.model.layers.8.mlp.gate_proj.base_layer.weight\n",
      " base_model.model.model.layers.8.mlp.gate_proj.lora_A.default.weight\n",
      " base_model.model.model.layers.8.mlp.gate_proj.lora_B.default.weight\n",
      " base_model.model.model.layers.8.mlp.up_proj.base_layer.weight\n",
      " base_model.model.model.layers.8.mlp.up_proj.lora_A.default.weight\n",
      " base_model.model.model.layers.8.mlp.up_proj.lora_B.default.weight\n",
      " base_model.model.model.layers.8.mlp.down_proj.base_layer.weight\n",
      " base_model.model.model.layers.8.mlp.down_proj.lora_A.default.weight\n",
      " base_model.model.model.layers.8.mlp.down_proj.lora_B.default.weight\n",
      " base_model.model.model.layers.9.self_attn.q_proj.base_layer.weight\n",
      " base_model.model.model.layers.9.self_attn.q_proj.lora_A.default.weight\n",
      " base_model.model.model.layers.9.self_attn.q_proj.lora_B.default.weight\n",
      " base_model.model.model.layers.9.self_attn.k_proj.base_layer.weight\n",
      " base_model.model.model.layers.9.self_attn.k_proj.lora_A.default.weight\n",
      " base_model.model.model.layers.9.self_attn.k_proj.lora_B.default.weight\n",
      " base_model.model.model.layers.9.self_attn.v_proj.base_layer.weight\n",
      " base_model.model.model.layers.9.self_attn.v_proj.lora_A.default.weight\n",
      " base_model.model.model.layers.9.self_attn.v_proj.lora_B.default.weight\n",
      " base_model.model.model.layers.9.self_attn.o_proj.base_layer.weight\n",
      " base_model.model.model.layers.9.self_attn.o_proj.lora_A.default.weight\n",
      " base_model.model.model.layers.9.self_attn.o_proj.lora_B.default.weight\n",
      " base_model.model.model.layers.9.mlp.gate_proj.base_layer.weight\n",
      " base_model.model.model.layers.9.mlp.gate_proj.lora_A.default.weight\n",
      " base_model.model.model.layers.9.mlp.gate_proj.lora_B.default.weight\n",
      " base_model.model.model.layers.9.mlp.up_proj.base_layer.weight\n",
      " base_model.model.model.layers.9.mlp.up_proj.lora_A.default.weight\n",
      " base_model.model.model.layers.9.mlp.up_proj.lora_B.default.weight\n",
      " base_model.model.model.layers.9.mlp.down_proj.base_layer.weight\n",
      " base_model.model.model.layers.9.mlp.down_proj.lora_A.default.weight\n",
      " base_model.model.model.layers.9.mlp.down_proj.lora_B.default.weight\n",
      " base_model.model.model.layers.10.self_attn.q_proj.base_layer.weight\n",
      " base_model.model.model.layers.10.self_attn.q_proj.lora_A.default.weight\n",
      " base_model.model.model.layers.10.self_attn.q_proj.lora_B.default.weight\n",
      " base_model.model.model.layers.10.self_attn.k_proj.base_layer.weight\n",
      " base_model.model.model.layers.10.self_attn.k_proj.lora_A.default.weight\n",
      " base_model.model.model.layers.10.self_attn.k_proj.lora_B.default.weight\n",
      " base_model.model.model.layers.10.self_attn.v_proj.base_layer.weight\n",
      " base_model.model.model.layers.10.self_attn.v_proj.lora_A.default.weight\n",
      " base_model.model.model.layers.10.self_attn.v_proj.lora_B.default.weight\n",
      " base_model.model.model.layers.10.self_attn.o_proj.base_layer.weight\n",
      " base_model.model.model.layers.10.self_attn.o_proj.lora_A.default.weight\n",
      " base_model.model.model.layers.10.self_attn.o_proj.lora_B.default.weight\n",
      " base_model.model.model.layers.10.mlp.gate_proj.base_layer.weight\n",
      " base_model.model.model.layers.10.mlp.gate_proj.lora_A.default.weight\n",
      " base_model.model.model.layers.10.mlp.gate_proj.lora_B.default.weight\n",
      " base_model.model.model.layers.10.mlp.up_proj.base_layer.weight\n",
      " base_model.model.model.layers.10.mlp.up_proj.lora_A.default.weight\n",
      " base_model.model.model.layers.10.mlp.up_proj.lora_B.default.weight\n",
      " base_model.model.model.layers.10.mlp.down_proj.base_layer.weight\n",
      " base_model.model.model.layers.10.mlp.down_proj.lora_A.default.weight\n",
      " base_model.model.model.layers.10.mlp.down_proj.lora_B.default.weight\n",
      " base_model.model.model.layers.11.self_attn.q_proj.base_layer.weight\n",
      " base_model.model.model.layers.11.self_attn.q_proj.lora_A.default.weight\n",
      " base_model.model.model.layers.11.self_attn.q_proj.lora_B.default.weight\n",
      " base_model.model.model.layers.11.self_attn.k_proj.base_layer.weight\n",
      " base_model.model.model.layers.11.self_attn.k_proj.lora_A.default.weight\n",
      " base_model.model.model.layers.11.self_attn.k_proj.lora_B.default.weight\n",
      " base_model.model.model.layers.11.self_attn.v_proj.base_layer.weight\n",
      " base_model.model.model.layers.11.self_attn.v_proj.lora_A.default.weight\n",
      " base_model.model.model.layers.11.self_attn.v_proj.lora_B.default.weight\n",
      " base_model.model.model.layers.11.self_attn.o_proj.base_layer.weight\n",
      " base_model.model.model.layers.11.self_attn.o_proj.lora_A.default.weight\n",
      " base_model.model.model.layers.11.self_attn.o_proj.lora_B.default.weight\n",
      " base_model.model.model.layers.11.mlp.gate_proj.base_layer.weight\n",
      " base_model.model.model.layers.11.mlp.gate_proj.lora_A.default.weight\n",
      " base_model.model.model.layers.11.mlp.gate_proj.lora_B.default.weight\n",
      " base_model.model.model.layers.11.mlp.up_proj.base_layer.weight\n",
      " base_model.model.model.layers.11.mlp.up_proj.lora_A.default.weight\n",
      " base_model.model.model.layers.11.mlp.up_proj.lora_B.default.weight\n",
      " base_model.model.model.layers.11.mlp.down_proj.base_layer.weight\n",
      " base_model.model.model.layers.11.mlp.down_proj.lora_A.default.weight\n",
      " base_model.model.model.layers.11.mlp.down_proj.lora_B.default.weight\n",
      " base_model.model.model.layers.12.self_attn.q_proj.base_layer.weight\n",
      " base_model.model.model.layers.12.self_attn.q_proj.lora_A.default.weight\n",
      " base_model.model.model.layers.12.self_attn.q_proj.lora_B.default.weight\n",
      " base_model.model.model.layers.12.self_attn.k_proj.base_layer.weight\n",
      " base_model.model.model.layers.12.self_attn.k_proj.lora_A.default.weight\n",
      " base_model.model.model.layers.12.self_attn.k_proj.lora_B.default.weight\n",
      " base_model.model.model.layers.12.self_attn.v_proj.base_layer.weight\n",
      " base_model.model.model.layers.12.self_attn.v_proj.lora_A.default.weight\n",
      " base_model.model.model.layers.12.self_attn.v_proj.lora_B.default.weight\n",
      " base_model.model.model.layers.12.self_attn.o_proj.base_layer.weight\n",
      " base_model.model.model.layers.12.self_attn.o_proj.lora_A.default.weight\n",
      " base_model.model.model.layers.12.self_attn.o_proj.lora_B.default.weight\n",
      " base_model.model.model.layers.12.mlp.gate_proj.base_layer.weight\n",
      " base_model.model.model.layers.12.mlp.gate_proj.lora_A.default.weight\n",
      " base_model.model.model.layers.12.mlp.gate_proj.lora_B.default.weight\n",
      " base_model.model.model.layers.12.mlp.up_proj.base_layer.weight\n",
      " base_model.model.model.layers.12.mlp.up_proj.lora_A.default.weight\n",
      " base_model.model.model.layers.12.mlp.up_proj.lora_B.default.weight\n",
      " base_model.model.model.layers.12.mlp.down_proj.base_layer.weight\n",
      " base_model.model.model.layers.12.mlp.down_proj.lora_A.default.weight\n",
      " base_model.model.model.layers.12.mlp.down_proj.lora_B.default.weight\n",
      " base_model.model.model.layers.13.self_attn.q_proj.base_layer.weight\n",
      " base_model.model.model.layers.13.self_attn.q_proj.lora_A.default.weight\n",
      " base_model.model.model.layers.13.self_attn.q_proj.lora_B.default.weight\n",
      " base_model.model.model.layers.13.self_attn.k_proj.base_layer.weight\n",
      " base_model.model.model.layers.13.self_attn.k_proj.lora_A.default.weight\n",
      " base_model.model.model.layers.13.self_attn.k_proj.lora_B.default.weight\n",
      " base_model.model.model.layers.13.self_attn.v_proj.base_layer.weight\n",
      " base_model.model.model.layers.13.self_attn.v_proj.lora_A.default.weight\n",
      " base_model.model.model.layers.13.self_attn.v_proj.lora_B.default.weight\n",
      " base_model.model.model.layers.13.self_attn.o_proj.base_layer.weight\n",
      " base_model.model.model.layers.13.self_attn.o_proj.lora_A.default.weight\n",
      " base_model.model.model.layers.13.self_attn.o_proj.lora_B.default.weight\n",
      " base_model.model.model.layers.13.mlp.gate_proj.base_layer.weight\n",
      " base_model.model.model.layers.13.mlp.gate_proj.lora_A.default.weight\n",
      " base_model.model.model.layers.13.mlp.gate_proj.lora_B.default.weight\n",
      " base_model.model.model.layers.13.mlp.up_proj.base_layer.weight\n",
      " base_model.model.model.layers.13.mlp.up_proj.lora_A.default.weight\n",
      " base_model.model.model.layers.13.mlp.up_proj.lora_B.default.weight\n",
      " base_model.model.model.layers.13.mlp.down_proj.base_layer.weight\n",
      " base_model.model.model.layers.13.mlp.down_proj.lora_A.default.weight\n",
      " base_model.model.model.layers.13.mlp.down_proj.lora_B.default.weight\n",
      " base_model.model.model.layers.14.self_attn.q_proj.base_layer.weight\n",
      " base_model.model.model.layers.14.self_attn.q_proj.lora_A.default.weight\n",
      " base_model.model.model.layers.14.self_attn.q_proj.lora_B.default.weight\n",
      " base_model.model.model.layers.14.self_attn.k_proj.base_layer.weight\n",
      " base_model.model.model.layers.14.self_attn.k_proj.lora_A.default.weight\n",
      " base_model.model.model.layers.14.self_attn.k_proj.lora_B.default.weight\n",
      " base_model.model.model.layers.14.self_attn.v_proj.base_layer.weight\n",
      " base_model.model.model.layers.14.self_attn.v_proj.lora_A.default.weight\n",
      " base_model.model.model.layers.14.self_attn.v_proj.lora_B.default.weight\n",
      " base_model.model.model.layers.14.self_attn.o_proj.base_layer.weight\n",
      " base_model.model.model.layers.14.self_attn.o_proj.lora_A.default.weight\n",
      " base_model.model.model.layers.14.self_attn.o_proj.lora_B.default.weight\n",
      " base_model.model.model.layers.14.mlp.gate_proj.base_layer.weight\n",
      " base_model.model.model.layers.14.mlp.gate_proj.lora_A.default.weight\n",
      " base_model.model.model.layers.14.mlp.gate_proj.lora_B.default.weight\n",
      " base_model.model.model.layers.14.mlp.up_proj.base_layer.weight\n",
      " base_model.model.model.layers.14.mlp.up_proj.lora_A.default.weight\n",
      " base_model.model.model.layers.14.mlp.up_proj.lora_B.default.weight\n",
      " base_model.model.model.layers.14.mlp.down_proj.base_layer.weight\n",
      " base_model.model.model.layers.14.mlp.down_proj.lora_A.default.weight\n",
      " base_model.model.model.layers.14.mlp.down_proj.lora_B.default.weight\n",
      " base_model.model.model.layers.15.self_attn.q_proj.base_layer.weight\n",
      " base_model.model.model.layers.15.self_attn.q_proj.lora_A.default.weight\n",
      " base_model.model.model.layers.15.self_attn.q_proj.lora_B.default.weight\n",
      " base_model.model.model.layers.15.self_attn.k_proj.base_layer.weight\n",
      " base_model.model.model.layers.15.self_attn.k_proj.lora_A.default.weight\n",
      " base_model.model.model.layers.15.self_attn.k_proj.lora_B.default.weight\n",
      " base_model.model.model.layers.15.self_attn.v_proj.base_layer.weight\n",
      " base_model.model.model.layers.15.self_attn.v_proj.lora_A.default.weight\n",
      " base_model.model.model.layers.15.self_attn.v_proj.lora_B.default.weight\n",
      " base_model.model.model.layers.15.self_attn.o_proj.base_layer.weight\n",
      " base_model.model.model.layers.15.self_attn.o_proj.lora_A.default.weight\n",
      " base_model.model.model.layers.15.self_attn.o_proj.lora_B.default.weight\n",
      " base_model.model.model.layers.15.mlp.gate_proj.base_layer.weight\n",
      " base_model.model.model.layers.15.mlp.gate_proj.lora_A.default.weight\n",
      " base_model.model.model.layers.15.mlp.gate_proj.lora_B.default.weight\n",
      " base_model.model.model.layers.15.mlp.up_proj.base_layer.weight\n",
      " base_model.model.model.layers.15.mlp.up_proj.lora_A.default.weight\n",
      " base_model.model.model.layers.15.mlp.up_proj.lora_B.default.weight\n",
      " base_model.model.model.layers.15.mlp.down_proj.base_layer.weight\n",
      " base_model.model.model.layers.15.mlp.down_proj.lora_A.default.weight\n",
      " base_model.model.model.layers.15.mlp.down_proj.lora_B.default.weight\n",
      " base_model.model.model.layers.16.self_attn.q_proj.base_layer.weight\n",
      " base_model.model.model.layers.16.self_attn.q_proj.lora_A.default.weight\n",
      " base_model.model.model.layers.16.self_attn.q_proj.lora_B.default.weight\n",
      " base_model.model.model.layers.16.self_attn.k_proj.base_layer.weight\n",
      " base_model.model.model.layers.16.self_attn.k_proj.lora_A.default.weight\n",
      " base_model.model.model.layers.16.self_attn.k_proj.lora_B.default.weight\n",
      " base_model.model.model.layers.16.self_attn.v_proj.base_layer.weight\n",
      " base_model.model.model.layers.16.self_attn.v_proj.lora_A.default.weight\n",
      " base_model.model.model.layers.16.self_attn.v_proj.lora_B.default.weight\n",
      " base_model.model.model.layers.16.self_attn.o_proj.base_layer.weight\n",
      " base_model.model.model.layers.16.self_attn.o_proj.lora_A.default.weight\n",
      " base_model.model.model.layers.16.self_attn.o_proj.lora_B.default.weight\n",
      " base_model.model.model.layers.16.mlp.gate_proj.base_layer.weight\n",
      " base_model.model.model.layers.16.mlp.gate_proj.lora_A.default.weight\n",
      " base_model.model.model.layers.16.mlp.gate_proj.lora_B.default.weight\n",
      " base_model.model.model.layers.16.mlp.up_proj.base_layer.weight\n",
      " base_model.model.model.layers.16.mlp.up_proj.lora_A.default.weight\n",
      " base_model.model.model.layers.16.mlp.up_proj.lora_B.default.weight\n",
      " base_model.model.model.layers.16.mlp.down_proj.base_layer.weight\n",
      " base_model.model.model.layers.16.mlp.down_proj.lora_A.default.weight\n",
      " base_model.model.model.layers.16.mlp.down_proj.lora_B.default.weight\n",
      " base_model.model.model.layers.17.self_attn.q_proj.base_layer.weight\n",
      " base_model.model.model.layers.17.self_attn.q_proj.lora_A.default.weight\n",
      " base_model.model.model.layers.17.self_attn.q_proj.lora_B.default.weight\n",
      " base_model.model.model.layers.17.self_attn.k_proj.base_layer.weight\n",
      " base_model.model.model.layers.17.self_attn.k_proj.lora_A.default.weight\n",
      " base_model.model.model.layers.17.self_attn.k_proj.lora_B.default.weight\n",
      " base_model.model.model.layers.17.self_attn.v_proj.base_layer.weight\n",
      " base_model.model.model.layers.17.self_attn.v_proj.lora_A.default.weight\n",
      " base_model.model.model.layers.17.self_attn.v_proj.lora_B.default.weight\n",
      " base_model.model.model.layers.17.self_attn.o_proj.base_layer.weight\n",
      " base_model.model.model.layers.17.self_attn.o_proj.lora_A.default.weight\n",
      " base_model.model.model.layers.17.self_attn.o_proj.lora_B.default.weight\n",
      " base_model.model.model.layers.17.mlp.gate_proj.base_layer.weight\n",
      " base_model.model.model.layers.17.mlp.gate_proj.lora_A.default.weight\n",
      " base_model.model.model.layers.17.mlp.gate_proj.lora_B.default.weight\n",
      " base_model.model.model.layers.17.mlp.up_proj.base_layer.weight\n",
      " base_model.model.model.layers.17.mlp.up_proj.lora_A.default.weight\n",
      " base_model.model.model.layers.17.mlp.up_proj.lora_B.default.weight\n",
      " base_model.model.model.layers.17.mlp.down_proj.base_layer.weight\n",
      " base_model.model.model.layers.17.mlp.down_proj.lora_A.default.weight\n",
      " base_model.model.model.layers.17.mlp.down_proj.lora_B.default.weight\n",
      " base_model.model.model.layers.18.self_attn.q_proj.base_layer.weight\n",
      " base_model.model.model.layers.18.self_attn.q_proj.lora_A.default.weight\n",
      " base_model.model.model.layers.18.self_attn.q_proj.lora_B.default.weight\n",
      " base_model.model.model.layers.18.self_attn.k_proj.base_layer.weight\n",
      " base_model.model.model.layers.18.self_attn.k_proj.lora_A.default.weight\n",
      " base_model.model.model.layers.18.self_attn.k_proj.lora_B.default.weight\n",
      " base_model.model.model.layers.18.self_attn.v_proj.base_layer.weight\n",
      " base_model.model.model.layers.18.self_attn.v_proj.lora_A.default.weight\n",
      " base_model.model.model.layers.18.self_attn.v_proj.lora_B.default.weight\n",
      " base_model.model.model.layers.18.self_attn.o_proj.base_layer.weight\n",
      " base_model.model.model.layers.18.self_attn.o_proj.lora_A.default.weight\n",
      " base_model.model.model.layers.18.self_attn.o_proj.lora_B.default.weight\n",
      " base_model.model.model.layers.18.mlp.gate_proj.base_layer.weight\n",
      " base_model.model.model.layers.18.mlp.gate_proj.lora_A.default.weight\n",
      " base_model.model.model.layers.18.mlp.gate_proj.lora_B.default.weight\n",
      " base_model.model.model.layers.18.mlp.up_proj.base_layer.weight\n",
      " base_model.model.model.layers.18.mlp.up_proj.lora_A.default.weight\n",
      " base_model.model.model.layers.18.mlp.up_proj.lora_B.default.weight\n",
      " base_model.model.model.layers.18.mlp.down_proj.base_layer.weight\n",
      " base_model.model.model.layers.18.mlp.down_proj.lora_A.default.weight\n",
      " base_model.model.model.layers.18.mlp.down_proj.lora_B.default.weight\n",
      " base_model.model.model.layers.19.self_attn.q_proj.base_layer.weight\n",
      " base_model.model.model.layers.19.self_attn.q_proj.lora_A.default.weight\n",
      " base_model.model.model.layers.19.self_attn.q_proj.lora_B.default.weight\n",
      " base_model.model.model.layers.19.self_attn.k_proj.base_layer.weight\n",
      " base_model.model.model.layers.19.self_attn.k_proj.lora_A.default.weight\n",
      " base_model.model.model.layers.19.self_attn.k_proj.lora_B.default.weight\n",
      " base_model.model.model.layers.19.self_attn.v_proj.base_layer.weight\n",
      " base_model.model.model.layers.19.self_attn.v_proj.lora_A.default.weight\n",
      " base_model.model.model.layers.19.self_attn.v_proj.lora_B.default.weight\n",
      " base_model.model.model.layers.19.self_attn.o_proj.base_layer.weight\n",
      " base_model.model.model.layers.19.self_attn.o_proj.lora_A.default.weight\n",
      " base_model.model.model.layers.19.self_attn.o_proj.lora_B.default.weight\n",
      " base_model.model.model.layers.19.mlp.gate_proj.base_layer.weight\n",
      " base_model.model.model.layers.19.mlp.gate_proj.lora_A.default.weight\n",
      " base_model.model.model.layers.19.mlp.gate_proj.lora_B.default.weight\n",
      " base_model.model.model.layers.19.mlp.up_proj.base_layer.weight\n",
      " base_model.model.model.layers.19.mlp.up_proj.lora_A.default.weight\n",
      " base_model.model.model.layers.19.mlp.up_proj.lora_B.default.weight\n",
      " base_model.model.model.layers.19.mlp.down_proj.base_layer.weight\n",
      " base_model.model.model.layers.19.mlp.down_proj.lora_A.default.weight\n",
      " base_model.model.model.layers.19.mlp.down_proj.lora_B.default.weight\n",
      " base_model.model.model.layers.20.self_attn.q_proj.base_layer.weight\n",
      " base_model.model.model.layers.20.self_attn.q_proj.lora_A.default.weight\n",
      " base_model.model.model.layers.20.self_attn.q_proj.lora_B.default.weight\n",
      " base_model.model.model.layers.20.self_attn.k_proj.base_layer.weight\n",
      " base_model.model.model.layers.20.self_attn.k_proj.lora_A.default.weight\n",
      " base_model.model.model.layers.20.self_attn.k_proj.lora_B.default.weight\n",
      " base_model.model.model.layers.20.self_attn.v_proj.base_layer.weight\n",
      " base_model.model.model.layers.20.self_attn.v_proj.lora_A.default.weight\n",
      " base_model.model.model.layers.20.self_attn.v_proj.lora_B.default.weight\n",
      " base_model.model.model.layers.20.self_attn.o_proj.base_layer.weight\n",
      " base_model.model.model.layers.20.self_attn.o_proj.lora_A.default.weight\n",
      " base_model.model.model.layers.20.self_attn.o_proj.lora_B.default.weight\n",
      " base_model.model.model.layers.20.mlp.gate_proj.base_layer.weight\n",
      " base_model.model.model.layers.20.mlp.gate_proj.lora_A.default.weight\n",
      " base_model.model.model.layers.20.mlp.gate_proj.lora_B.default.weight\n",
      " base_model.model.model.layers.20.mlp.up_proj.base_layer.weight\n",
      " base_model.model.model.layers.20.mlp.up_proj.lora_A.default.weight\n",
      " base_model.model.model.layers.20.mlp.up_proj.lora_B.default.weight\n",
      " base_model.model.model.layers.20.mlp.down_proj.base_layer.weight\n",
      " base_model.model.model.layers.20.mlp.down_proj.lora_A.default.weight\n",
      " base_model.model.model.layers.20.mlp.down_proj.lora_B.default.weight\n",
      " base_model.model.model.layers.21.self_attn.q_proj.base_layer.weight\n",
      " base_model.model.model.layers.21.self_attn.q_proj.lora_A.default.weight\n",
      " base_model.model.model.layers.21.self_attn.q_proj.lora_B.default.weight\n",
      " base_model.model.model.layers.21.self_attn.k_proj.base_layer.weight\n",
      " base_model.model.model.layers.21.self_attn.k_proj.lora_A.default.weight\n",
      " base_model.model.model.layers.21.self_attn.k_proj.lora_B.default.weight\n",
      " base_model.model.model.layers.21.self_attn.v_proj.base_layer.weight\n",
      " base_model.model.model.layers.21.self_attn.v_proj.lora_A.default.weight\n",
      " base_model.model.model.layers.21.self_attn.v_proj.lora_B.default.weight\n",
      " base_model.model.model.layers.21.self_attn.o_proj.base_layer.weight\n",
      " base_model.model.model.layers.21.self_attn.o_proj.lora_A.default.weight\n",
      " base_model.model.model.layers.21.self_attn.o_proj.lora_B.default.weight\n",
      " base_model.model.model.layers.21.mlp.gate_proj.base_layer.weight\n",
      " base_model.model.model.layers.21.mlp.gate_proj.lora_A.default.weight\n",
      " base_model.model.model.layers.21.mlp.gate_proj.lora_B.default.weight\n",
      " base_model.model.model.layers.21.mlp.up_proj.base_layer.weight\n",
      " base_model.model.model.layers.21.mlp.up_proj.lora_A.default.weight\n",
      " base_model.model.model.layers.21.mlp.up_proj.lora_B.default.weight\n",
      " base_model.model.model.layers.21.mlp.down_proj.base_layer.weight\n",
      " base_model.model.model.layers.21.mlp.down_proj.lora_A.default.weight\n",
      " base_model.model.model.layers.21.mlp.down_proj.lora_B.default.weight\n",
      " base_model.model.lm_head.base_layer.weight\n",
      " base_model.model.lm_head.lora_A.default.weight\n",
      " base_model.model.lm_head.lora_B.default.weight\n",
      "\n",
      "Summary:\n",
      " Trainable params: 65628160\n",
      " Non-Trainable params: 1041000448\n",
      " All Parameters: 1106628608\n"
     ]
    }
   ],
   "source": [
    "print_trainable_parameters(model)"
   ]
  },
  {
   "cell_type": "markdown",
   "id": "f9f7437b",
   "metadata": {},
   "source": [
    "# Set up Evaluation"
   ]
  },
  {
   "cell_type": "code",
   "execution_count": 25,
   "id": "cb0de39f",
   "metadata": {},
   "outputs": [],
   "source": [
    "from transformers import TextStreamer\n",
    "from peft import PeftModel\n",
    "import torch\n",
    "import gc # import Python's garbage collection module\n",
    "\n",
    "# Define a stream\n",
    "def stream(user_prompt, model_type, tokenizer, checkpoint=''):\n",
    "    if model_type == 'base':\n",
    "        eval_model = model\n",
    "    elif model_type == 'fine-tuned':\n",
    "        eval_model = PeftModel.from_pretrained(model, checkpoint)\n",
    "        eval_model = eval_model.to('cuda')\n",
    "\n",
    "        for n, p in eval_model.named_parameters():\n",
    "            if p.device.type == 'cpu':\n",
    "                print(f'{n} is on cpu!')\n",
    "    \n",
    "    else:\n",
    "        print(\"You must set the model_type to base or fine-tuned\")\n",
    "        exit()\n",
    "    \n",
    "    print(f'Proceeding to inference with peft adapters from {checkpoint}')\n",
    "    \n",
    "    eval_model.config.use_cache = True\n",
    "\n",
    "    messages = [\n",
    "        { 'role': 'user', 'content': f\"{user_prompt.strip()}\"},\n",
    "    ]\n",
    "\n",
    "    inputs = tokenizer.apply_chat_template(messages, tokenize=False, add_generation_prompt=True)\n",
    "\n",
    "    inputs = tokenizer([inputs], return_tensors='pt', add_special_tokens=False).to('cuda')\n",
    "\n",
    "    if \"token_type_ids\" in inputs:\n",
    "        del inputs[\"token_type_ids\"]\n",
    "    \n",
    "    streamer = TextStreamer(tokenizer)\n",
    "    \n",
    "    print(f'eval_model is on: {next(eval_model.parameters()).device}') # Debug line\n",
    "    print(f'input_ids are on: {inputs[\"input_ids\"].device}') # Debug line\n",
    "\n",
    "    # Despite returning the usal output, the streamer will also print the generated \n",
    "    #_ = eval_model.generate(**inputs, streamer=streamer, max_new_tokens=250, do_s)\n",
    "    _ = eval_model.generate(**inputs, streamer=streamer, max_new_tokens=250, do_sample=True)\n",
    "    \n",
    "    # Clear GPU cache and run garbage collection\n",
    "    torch.cuda.empty_cache()\n",
    "    gc.collect()\n",
    "    \n",
    "def evaluation(model_type, checkpoint=''):\n",
    "    questions = [\n",
    "        \"What is one plus one?\",\n",
    "        \"Give me some python code to add the first five Fibonacci numbers.\",\n",
    "    ]\n",
    "    \n",
    "    answers = [\n",
    "        \"Two.\",\n",
    "        \"...\",\n",
    "    ]\n",
    "    \n",
    "    for question , answer in zip(questions, answers):\n",
    "        stream(question, model_type, tokenizer, checkpoint)\n",
    "        print('\\n\\n')\n",
    "        "
   ]
  },
  {
   "cell_type": "code",
   "execution_count": 26,
   "id": "079b652e",
   "metadata": {},
   "outputs": [
    {
     "name": "stdout",
     "output_type": "stream",
     "text": [
      "LlamaConfig {\n",
      "  \"_name_or_path\": \"./TinyLlama/TinyLlama_v1.1\",\n",
      "  \"architectures\": [\n",
      "    \"LlamaForCausalLM\"\n",
      "  ],\n",
      "  \"attention_bias\": false,\n",
      "  \"attention_dropout\": 0.0,\n",
      "  \"bos_token_id\": 1,\n",
      "  \"eos_token_id\": 2,\n",
      "  \"hidden_act\": \"silu\",\n",
      "  \"hidden_size\": 2048,\n",
      "  \"initializer_range\": 0.02,\n",
      "  \"intermediate_size\": 5632,\n",
      "  \"max_position_embeddings\": 2048,\n",
      "  \"mlp_bias\": false,\n",
      "  \"model_type\": \"llama\",\n",
      "  \"num_attention_heads\": 32,\n",
      "  \"num_hidden_layers\": 22,\n",
      "  \"num_key_value_heads\": 4,\n",
      "  \"pad_token_id\": 0,\n",
      "  \"pretraining_tp\": 1,\n",
      "  \"rms_norm_eps\": 1e-05,\n",
      "  \"rope_scaling\": null,\n",
      "  \"rope_theta\": 10000.0,\n",
      "  \"tie_word_embeddings\": false,\n",
      "  \"torch_dtype\": \"bfloat16\",\n",
      "  \"transformers_version\": \"4.41.2\",\n",
      "  \"use_cache\": true,\n",
      "  \"vocab_size\": 32000\n",
      "}\n",
      "\n"
     ]
    }
   ],
   "source": [
    "print(model.config)"
   ]
  },
  {
   "cell_type": "code",
   "execution_count": 27,
   "id": "87602f84",
   "metadata": {},
   "outputs": [
    {
     "name": "stdout",
     "output_type": "stream",
     "text": [
      "GenerationConfig {\n",
      "  \"bos_token_id\": 1,\n",
      "  \"eos_token_id\": 2,\n",
      "  \"max_length\": 2048,\n",
      "  \"pad_token_id\": 0\n",
      "}\n",
      "\n"
     ]
    }
   ],
   "source": [
    "print(model.generation_config)"
   ]
  },
  {
   "cell_type": "code",
   "execution_count": 28,
   "id": "99450377",
   "metadata": {},
   "outputs": [
    {
     "name": "stdout",
     "output_type": "stream",
     "text": [
      "Proceeding to inference with peft adapters from LlamaTokenizerFast(name_or_path='./TinyLlama/TinyLlama_v1.1', vocab_size=32000, model_max_length=1000000000000000019884624838656, is_fast=True, padding_side='right', truncation_side='right', special_tokens={'bos_token': '<s>', 'eos_token': '</s>', 'unk_token': '<unk>', 'pad_token': '<unk>'}, clean_up_tokenization_spaces=False),  added_tokens_decoder={\n",
      "\t0: AddedToken(\"<unk>\", rstrip=False, lstrip=False, single_word=False, normalized=False, special=True),\n",
      "\t1: AddedToken(\"<s>\", rstrip=False, lstrip=False, single_word=False, normalized=False, special=True),\n",
      "\t2: AddedToken(\"</s>\", rstrip=False, lstrip=False, single_word=False, normalized=False, special=True),\n",
      "}\n",
      "eval_model is on: cuda:0\n",
      "input_ids are on: cuda:0\n",
      "<s> [INST] What is one plus one? [/INST] IN TH MEMEME ME MEME MEMEME MEME MEMEME ME MEME MEME ME ME MEMEME E ME MEME MEMEME ME ME ME MEMEME MEME MEME MEMEME MEAT ME MEMEME ME DMEME MEMEME MEVER MEME EMEME TEMEME MEMEME MAR MARMAMMAMA MARMAT MARMAMMA MA MR MARMA MR M MAR MR MAR MR M MAR MR M MAR MR MR MR MR MR MR MR MR MR M MR MR MR MR MR MR MR M MR MR MR MR MAR MR MRMR MAR M MARMR MAR MAR MARMA MAR H MAR MARMA MAR Mar MAR MAR MAR MAMA RAT MR M MR MR MR MR MR MAR MAR MAR MA MR MR MR MR MR MRMMMRMMMRMRMMMR MYMA MR MR MR MR MRMRMRMPMRTR MR MRMRMM MR MR MRMA MR MRMR MR MR MRMRMRMRMR MR TUR MR MRMT MRM MRMR M TR MR MR MR MR MR MR MRMRMR MR T MR MR MR MR MR R MR MR MR MR MRMO MR MR MRMR mour MR MR MRMMR MR\n",
      "\n",
      "\n",
      "\n",
      "Proceeding to inference with peft adapters from LlamaTokenizerFast(name_or_path='./TinyLlama/TinyLlama_v1.1', vocab_size=32000, model_max_length=1000000000000000019884624838656, is_fast=True, padding_side='right', truncation_side='right', special_tokens={'bos_token': '<s>', 'eos_token': '</s>', 'unk_token': '<unk>', 'pad_token': '<unk>'}, clean_up_tokenization_spaces=False),  added_tokens_decoder={\n",
      "\t0: AddedToken(\"<unk>\", rstrip=False, lstrip=False, single_word=False, normalized=False, special=True),\n",
      "\t1: AddedToken(\"<s>\", rstrip=False, lstrip=False, single_word=False, normalized=False, special=True),\n",
      "\t2: AddedToken(\"</s>\", rstrip=False, lstrip=False, single_word=False, normalized=False, special=True),\n",
      "}\n",
      "eval_model is on: cuda:0\n",
      "input_ids are on: cuda:0\n",
      "<s> [INST] Give me some python code to add the first five Fibonacci numbers. [/INST]\"]], [\"INFORMATION\"]].\n",
      "[[INFORMATION]]\n",
      "NAME: \"Alexandre\"\n",
      "PIT: -1.0\n",
      "REMARKS: \"French\", \"Dutch\", [\"German\", \"Vietnamese\", \"Scissors, Cut\", \"Teddy bear\", \"French\"]\n",
      "\n",
      "\n",
      "{\n",
      "  \"NAME\": \"Maria\",\n",
      "  \"REMARKS\": \".Japanese\",\n",
      "  \"WITHDRAW\":\n",
      "     {\"MOTHER\": \"\",\n",
      "      \"POTATOES\": \"12\"},\n",
      "  \"CLOSESURE\": {\n",
      "     \"$TYPE\": {\n",
      "       \"MOTHER\": \"'French'\"\n",
      "     },\n",
      "     \"CHILD\": [\n",
      "       {\n",
      "         \"MOTHER\": \"0\",\n",
      "         \"POTATOES\": \"122\"\n",
      "       }]\n",
      "    }\n",
      "}\n",
      "\n",
      "\n",
      "\n",
      "\n",
      "\n",
      "\n",
      "\n",
      "</s>\n",
      "\n",
      "\n",
      "\n"
     ]
    }
   ],
   "source": [
    "evaluation('base', tokenizer)"
   ]
  },
  {
   "cell_type": "markdown",
   "id": "4e363528",
   "metadata": {},
   "source": [
    "# Load the Dataset"
   ]
  },
  {
   "cell_type": "code",
   "execution_count": 29,
   "id": "7cbb6ea3",
   "metadata": {},
   "outputs": [
    {
     "name": "stdout",
     "output_type": "stream",
     "text": [
      "{% if messages[0]['role'] != 'assistant' %}{{ bos_token }}{% endif %}{% for message in messages %}{% if message['role'] == 'user' %}{{ '[INST] ' + message['content'] + ' [/INST]' }}{% elif message['role'] == 'assistant' %}{{ message['content'] + eos_token }}{% endif %}{% endfor %}\n",
      "\n"
     ]
    }
   ],
   "source": [
    "print(tokenizer.chat_template)"
   ]
  },
  {
   "cell_type": "code",
   "execution_count": 30,
   "id": "d0e88003",
   "metadata": {},
   "outputs": [
    {
     "data": {
      "application/vnd.jupyter.widget-view+json": {
       "model_id": "1dcedbe736fc419695aea045621a8331",
       "version_major": 2,
       "version_minor": 0
      },
      "text/plain": [
       "Formatting comparisons with prompt template:   0%|          | 0/43245 [00:00<?, ? examples/s]"
      ]
     },
     "metadata": {},
     "output_type": "display_data"
    },
    {
     "data": {
      "application/vnd.jupyter.widget-view+json": {
       "model_id": "a300f00903224512b1cedea5948f32b7",
       "version_major": 2,
       "version_minor": 0
      },
      "text/plain": [
       "Formatting comparisons with prompt template:   0%|          | 0/1000 [00:00<?, ? examples/s]"
      ]
     },
     "metadata": {},
     "output_type": "display_data"
    }
   ],
   "source": [
    "# Prepared with the help of code from: https://github.com/xfactlab/orpo/blob/main...\n",
    "import json\n",
    "\n",
    "# Load the dataset\n",
    "#dataset_name = 'argilla/dpo-mix-7k' # Ensure this is defined\n",
    "dataset_name = 'mlabonne/orpo-dpo-mix-40k' # Ensure this is defined\n",
    "# dataset_name = 'argilla/OpenHermesPrefenrences' # Ensure this is defined\n",
    "\n",
    "max_num_samples = None # Set to None to use the full dataset\n",
    "# max_num_samples = 1000 # set to None to use the full dataset\n",
    "\n",
    "from datasets import load_dataset\n",
    "\n",
    "def build_dataset(tokenizer, data_name, cache_dir=None, max_num_samples=10000, test_split_max=1000):\n",
    "    # Determin the split specification based on max_num samples\n",
    "    split_spec = 'train' if max_num_samples is None else f'train[:{max_num_samples}]'\n",
    "\n",
    "    # Load the dataset\n",
    "    full_data = load_dataset(data_name, split=split_spec, cache_dir=cache_dir)\n",
    "\n",
    "    # Shuffle the dataset\n",
    "    if max_num_samples is not None:\n",
    "        full_data = full_data.shuffle(seed=42)\n",
    "    else:\n",
    "        full_data = full_data\n",
    "\n",
    "    # Determine the number of test samples\n",
    "    num_total_samples = len(full_data)\n",
    "    test_size = min(test_split_max, min(1000, int(0.1 * num_total_samples)))\n",
    "\n",
    "    # Randomly split the data into training and test sets\n",
    "    dataset = full_data.train_test_split(test_size=test_size)\n",
    "\n",
    "    # ds_train = dataset['train']\n",
    "    # ds_test = dataser['test']\n",
    "\n",
    "    column_names = list(dataset['train'].features)\n",
    "\n",
    "    def apply_dpo_template(example):\n",
    "        # function adapted from https://kaitchup.substrack.com/p/fine-tune-a-better-go\n",
    "        if all(k in example.keys() for k in ('chosen', 'rejected')):\n",
    "            # For DPO, the inputs are triples of (prompt, chosen, rejected), where 'chosen'\n",
    "            # We therefore need to extract the N-1 turns to form the prompt\n",
    "            prompt_messages = example['chosen'][:-1]\n",
    "            example['messages'] = example['chosen']\n",
    "\n",
    "            # Now we extract the final turn to define chosen/rejected responses\n",
    "            chosen_messages = example['chosen'][-1:]\n",
    "            rejected_messages = example['rejected'][-1:]\n",
    "            example['text_chosen'] = tokenizer.apply_chat_template(chosen_messages, tokenize=False)\n",
    "            example['text_rejected'] = tokenizer.apply_chat_template(rejected_messages, tokenize=False)\n",
    "            example['text_prompt'] = tokenizer.apply_chat_template(prompt_messages, tokenize=False)\n",
    "        return example\n",
    "\n",
    "    dataset = dataset.map(apply_dpo_template, remove_columns=column_names,\n",
    "                desc='Formatting comparisons with prompt template',)\n",
    "\n",
    "    for split in ['train', 'test']:\n",
    "        dataset[split] = dataset[split].rename_columns(\n",
    "            {'text_prompt': 'prompt', 'text_chosen': 'chosen', 'text_rejected': 'rejected', 'messages': 'messages'}\n",
    "        )\n",
    "\n",
    "    return dataset['train'], dataset['test']\n",
    "\n",
    "# Assuming 'tokenizer' and 'dataset_name' are already defined\n",
    "train, test = build_dataset(tokenizer, dataset_name, cache_dir='./dataset', max_num_samples=max_num_samples)\n",
    "\n",
    "# Check the chat template!!! <s> should not be included when tokenizing the respones"
   ]
  },
  {
   "cell_type": "code",
   "execution_count": 31,
   "id": "5810b26c",
   "metadata": {},
   "outputs": [
    {
     "name": "stdout",
     "output_type": "stream",
     "text": [
      "Prompt: <s>[INST] Q: Did Al-Farabi ever meet Mohammed?\n",
      "A: no\n",
      "Explanation: Al-Farabi was born in 872 AD. Mohammed died in 832 AD.\n",
      "\n",
      "Q: Can music be used as a weapon?\n",
      "A: yes\n",
      "Explanation: Music is an art form whose medium is sound. Music can help elevate or subdue emotions. People connect to music through the sound. The military uses loud music to cause psychological disorientation and confusion. The military calls the use of loud disorienting music part of psychological operations.\n",
      "\n",
      "Q: Can you write a whole Haiku in a single tweet?\n",
      "A: [/INST]\n",
      "\n",
      "\n",
      "Chosen: A spring breeze whispers  \n",
      "Through cherry blossoms  \n",
      "Nature's symphony  \n",
      "(5 syllables in the first line, 7 syllables in the second line, 5 syllables in the third line)</s>\n",
      "\n",
      "\n",
      "Rejected: No, 140 characters \n",
      "\n",
      "Unfurl the petal's secret\n",
      "A Haiku, unfolding a rustling dance\n",
      "Here's a delicate answer.</s>\n",
      "\n",
      "\n",
      "Messages (incl. prompt): [{'content': 'Q: Did Al-Farabi ever meet Mohammed?\\nA: no\\nExplanation: Al-Farabi was born in 872 AD. Mohammed died in 832 AD.\\n\\nQ: Can music be used as a weapon?\\nA: yes\\nExplanation: Music is an art form whose medium is sound. Music can help elevate or subdue emotions. People connect to music through the sound. The military uses loud music to cause psychological disorientation and confusion. The military calls the use of loud disorienting music part of psychological operations.\\n\\nQ: Can you write a whole Haiku in a single tweet?\\nA:', 'role': 'user'}, {'content': \"A spring breeze whispers  \\nThrough cherry blossoms  \\nNature's symphony  \\n(5 syllables in the first line, 7 syllables in the second line, 5 syllables in the third line)\", 'role': 'assistant'}]\n"
     ]
    }
   ],
   "source": [
    "print('Prompt:', train['prompt'][0])\n",
    "print('\\n\\nChosen:', train['chosen'][0])\n",
    "print('\\n\\nRejected:', train['rejected'][0])\n",
    "print('\\n\\nMessages (incl. prompt):', train['messages'][0])"
   ]
  },
  {
   "cell_type": "markdown",
   "id": "e831b9da",
   "metadata": {},
   "source": [
    "# Train!"
   ]
  },
  {
   "cell_type": "markdown",
   "id": "a77bc43c",
   "metadata": {},
   "source": [
    "## Set up and run Training"
   ]
  },
  {
   "cell_type": "code",
   "execution_count": 32,
   "id": "199f83d9",
   "metadata": {},
   "outputs": [
    {
     "name": "stdout",
     "output_type": "stream",
     "text": [
      "./results/TinyLlama_v1.1_mlabonne/orpo-dpo-mix-40k_1_epochs_SFT\n"
     ]
    }
   ],
   "source": [
    "model_name = model_id.split('/')[-1]\n",
    "\n",
    "epochs=1\n",
    "grad_accum=4\n",
    "batch_size=8\n",
    "fine_tune_tag='SFT'\n",
    "save_dir = f'./results/{model_name}_{dataset_name}_{epochs}_epochs_{fine_tune_tag}'\n",
    "print(save_dir)"
   ]
  },
  {
   "cell_type": "code",
   "execution_count": 33,
   "id": "dade1990",
   "metadata": {},
   "outputs": [],
   "source": [
    "import transformers\n",
    "import os\n",
    "import torch\n",
    "\n",
    "# Custom callback to log metrics\n",
    "class LoggingCallback(transformers.TrainerCallback):\n",
    "    def __init__(self, log_file_path):\n",
    "        self.log_file_path = log_file_path\n",
    "\n",
    "    def on_log(self, args, state, control, model=None, logs=None, **kwargs):\n",
    "        with open(self.log_file_path, 'a') as f:\n",
    "            if 'loss' in logs:\n",
    "                f.write(f'Step: {state.global_step}, Training Loss: {logs[\"loss\"]}\\n')\n",
    "                if 'eval_loss' in logs:\n",
    "                    f.write(f'Step: {state.global_step}, Eval Loss: {logs[\"eval_loss\"]}\\n')\n",
    "                f.flush()  # Force flush the buffered data to file\n",
    "\n",
    "        # Check if the current step is a checkpoint step\n",
    "        if state.global_step % int(args.save_steps) == 0:\n",
    "            # Check if the last checkpoint path exists\n",
    "            if state.best_model_checkpoint:\n",
    "                checkpoint_dir = state.best_model_checkpoint\n",
    "            else:\n",
    "                # If not, construct the checkpoint directory path\n",
    "                checkpoint_dir = os.path.join(args.output_dir, f'checkpoint-{state.global_step}')\n",
    "\n",
    "            # Ensure the checkpoint directory exists\n",
    "            os.makedirs(checkpoint_dir, exist_ok=True)\n",
    "\n",
    "            # Save trainable params in the checkpoint directory\n",
    "            current_trainable_params = {n: p for n, p in model.named_parameters() if p.requires_grad}\n",
    "            current_trainable_params_state_dict = {n: p.data for n, p in current_trainable_params.items()}\n",
    "            file_path = os.path.join(checkpoint_dir, 'trainable_params.pt')\n",
    "            torch.save(current_trainable_params_state_dict, file_path)\n",
    "\n",
    "# Log file path\n",
    "cache_dir = './dataset'  # Assuming cache_dir is defined elsewhere in your code\n",
    "log_file_path = os.path.join(cache_dir, 'training_logs.txt')\n",
    "\n",
    "# Create an instance of the custom callback\n",
    "logging_callback = LoggingCallback(log_file_path)\n",
    "                             "
   ]
  },
  {
   "cell_type": "markdown",
   "id": "f0cb687e",
   "metadata": {
    "jp-MarkdownHeadingCollapsed": true
   },
   "source": [
    "## SFT"
   ]
  },
  {
   "cell_type": "code",
   "execution_count": 34,
   "id": "a22fc8d5",
   "metadata": {},
   "outputs": [
    {
     "name": "stdout",
     "output_type": "stream",
     "text": [
      "Dataset({\n",
      "    features: ['messages'],\n",
      "    num_rows: 43245\n",
      "})\n"
     ]
    }
   ],
   "source": [
    "# Remove unnecessary columns\n",
    "train = train.remove_columns(['prompt', 'chosen', 'rejected'])\n",
    "\n",
    "print(train)"
   ]
  },
  {
   "cell_type": "code",
   "execution_count": 37,
   "id": "42ec8714",
   "metadata": {},
   "outputs": [
    {
     "name": "stderr",
     "output_type": "stream",
     "text": [
      "PyTorch: setting up devices\n",
      "The default value for the training argument `--report_to` will change in v5 (from all installed integrations to none). In v5, you will need to use `--report_to all` to get the same behavior as now. You should start updating your code and make this info disappear :-).\n",
      "/usr/local/lib/python3.10/dist-packages/huggingface_hub/utils/_deprecation.py:100: FutureWarning: Deprecated argument(s) used in '__init__': max_seq_length. Will not be supported from version '1.0.0'.\n",
      "\n",
      "Deprecated positional argument(s) used in SFTTrainer, please use the SFTConfig to set these arguments instead.\n",
      "  warnings.warn(message, FutureWarning)\n",
      "PyTorch: setting up devices\n",
      "/usr/local/lib/python3.10/dist-packages/transformers/training_args.py:1965: FutureWarning: `--push_to_hub_token` is deprecated and will be removed in version 5 of 🤗 Transformers. Use `--hub_token` instead.\n",
      "  warnings.warn(\n",
      "/usr/local/lib/python3.10/dist-packages/trl/trainer/sft_trainer.py:269: UserWarning: You passed a `max_seq_length` argument to the SFTTrainer, the value you passed will override the one in the `SFTConfig`.\n",
      "  warnings.warn(\n",
      "/usr/local/lib/python3.10/dist-packages/trl/trainer/sft_trainer.py:355: UserWarning: You passed a `dataset_kwargs` argument to the SFTTrainer, the value you passed will override the one in the `SFTConfig`.\n",
      "  warnings.warn(\n",
      "Using auto half precision backend\n"
     ]
    }
   ],
   "source": [
    "from transformers import Trainer\n",
    "from trl import SFTTrainer\n",
    "\n",
    "trainer = SFTTrainer(\n",
    "    # peft_config=peft_config, # commet out if passing a peft model\n",
    "    max_seq_length=1024,\n",
    "    tokenizer=tokenizer, # Trainer uses the chat template passsed by the tokenizer. If data consist only of the column messages, this is fine\n",
    "    model=model,\n",
    "    train_dataset=train,\n",
    "    eval_dataset=test,\n",
    "    args=transformers.TrainingArguments(\n",
    "        # max_step=1, # comment this out after the first time you...\n",
    "        save_steps=150, ### MAKE SURE TO CHECK THIS VALUE IS GOOD FOR\n",
    "        logging_steps=1,\n",
    "        num_train_epochs=epochs,\n",
    "        output_dir=save_dir,\n",
    "        eval_strategy='steps',\n",
    "        do_eval=True,\n",
    "        eval_steps=0.2,\n",
    "        per_device_eval_batch_size=batch_size,\n",
    "        per_device_train_batch_size=batch_size,\n",
    "        gradient_accumulation_steps=grad_accum,\n",
    "        log_level='debug',\n",
    "        #optim='paged_adamw_8bit',\n",
    "        #fp16=True, # For non-Ampere GPUs\n",
    "        bf16=True, # For Ampere GPUs or later\n",
    "        max_grad_norm=0.3,\n",
    "        lr_scheduler_type='linear',\n",
    "        #hub_private_repo=True,\n",
    "        warmup_ratio=0.03, # optional, may help stability at the (learning rate is ower for the first stepts)\n",
    "        optim='adamw_torch', # comment out for LoRA +\n",
    "        learning_rate=1e-4, # comment out for LoRA +\n",
    "    ),\n",
    "\n",
    "    callbacks=[logging_callback] # Add custom callback here\n",
    "    # neftune_noise_alpha=5 # Aff in noise to embeddings to improve...\n",
    ")\n",
    "        "
   ]
  },
  {
   "cell_type": "code",
   "execution_count": 38,
   "id": "480a0d91",
   "metadata": {},
   "outputs": [
    {
     "name": "stderr",
     "output_type": "stream",
     "text": [
      "Currently training with a batch size of: 8\n",
      "***** Running training *****\n",
      "  Num examples = 43,245\n",
      "  Num Epochs = 1\n",
      "  Instantaneous batch size per device = 8\n",
      "  Total train batch size (w. parallel, distributed & accumulation) = 32\n",
      "  Gradient Accumulation steps = 4\n",
      "  Total optimization steps = 1,351\n",
      "  Number of trainable parameters = 65,628,160\n",
      "Automatic Weights & Biases logging enabled, to disable set os.environ[\"WANDB_DISABLED\"] = \"true\"\n",
      "\u001b[34m\u001b[1mwandb\u001b[0m: \u001b[33mWARNING\u001b[0m The `run_name` is currently set to the same value as `TrainingArguments.output_dir`. If this was not intended, please specify a different run name by setting the `TrainingArguments.run_name` parameter.\n"
     ]
    },
    {
     "data": {
      "text/html": [
       "Tracking run with wandb version 0.17.1"
      ],
      "text/plain": [
       "<IPython.core.display.HTML object>"
      ]
     },
     "metadata": {},
     "output_type": "display_data"
    },
    {
     "data": {
      "text/html": [
       "Run data is saved locally in <code>/workspace/_LEARNING/me/FineTuning/wandb/run-20240612_091154-2f6so3xa</code>"
      ],
      "text/plain": [
       "<IPython.core.display.HTML object>"
      ]
     },
     "metadata": {},
     "output_type": "display_data"
    },
    {
     "data": {
      "text/html": [
       "Syncing run <strong><a href='https://wandb.ai/demaz/huggingface/runs/2f6so3xa' target=\"_blank\">./results/TinyLlama_v1.1_mlabonne/orpo-dpo-mix-40k_1_epochs_SFT</a></strong> to <a href='https://wandb.ai/demaz/huggingface' target=\"_blank\">Weights & Biases</a> (<a href='https://wandb.me/run' target=\"_blank\">docs</a>)<br/>"
      ],
      "text/plain": [
       "<IPython.core.display.HTML object>"
      ]
     },
     "metadata": {},
     "output_type": "display_data"
    },
    {
     "data": {
      "text/html": [
       " View project at <a href='https://wandb.ai/demaz/huggingface' target=\"_blank\">https://wandb.ai/demaz/huggingface</a>"
      ],
      "text/plain": [
       "<IPython.core.display.HTML object>"
      ]
     },
     "metadata": {},
     "output_type": "display_data"
    },
    {
     "data": {
      "text/html": [
       " View run at <a href='https://wandb.ai/demaz/huggingface/runs/2f6so3xa' target=\"_blank\">https://wandb.ai/demaz/huggingface/runs/2f6so3xa</a>"
      ],
      "text/plain": [
       "<IPython.core.display.HTML object>"
      ]
     },
     "metadata": {},
     "output_type": "display_data"
    },
    {
     "data": {
      "text/html": [
       "\n",
       "    <div>\n",
       "      \n",
       "      <progress value='1351' max='1351' style='width:300px; height:20px; vertical-align: middle;'></progress>\n",
       "      [1351/1351 1:11:40, Epoch 0/1]\n",
       "    </div>\n",
       "    <table border=\"1\" class=\"dataframe\">\n",
       "  <thead>\n",
       " <tr style=\"text-align: left;\">\n",
       "      <th>Step</th>\n",
       "      <th>Training Loss</th>\n",
       "      <th>Validation Loss</th>\n",
       "    </tr>\n",
       "  </thead>\n",
       "  <tbody>\n",
       "    <tr>\n",
       "      <td>271</td>\n",
       "      <td>1.450700</td>\n",
       "      <td>1.353275</td>\n",
       "    </tr>\n",
       "    <tr>\n",
       "      <td>542</td>\n",
       "      <td>1.271700</td>\n",
       "      <td>1.335227</td>\n",
       "    </tr>\n",
       "    <tr>\n",
       "      <td>813</td>\n",
       "      <td>1.317600</td>\n",
       "      <td>1.329108</td>\n",
       "    </tr>\n",
       "    <tr>\n",
       "      <td>1084</td>\n",
       "      <td>1.406600</td>\n",
       "      <td>1.327019</td>\n",
       "    </tr>\n",
       "  </tbody>\n",
       "</table><p>"
      ],
      "text/plain": [
       "<IPython.core.display.HTML object>"
      ]
     },
     "metadata": {},
     "output_type": "display_data"
    },
    {
     "name": "stderr",
     "output_type": "stream",
     "text": [
      "Saving model checkpoint to ./results/TinyLlama_v1.1_mlabonne/orpo-dpo-mix-40k_1_epochs_SFT/checkpoint-150\n",
      "/usr/local/lib/python3.10/dist-packages/peft/utils/save_and_load.py:180: UserWarning: Setting `save_embedding_layers` to `True` as embedding layers found in `target_modules`.\n",
      "  warnings.warn(\"Setting `save_embedding_layers` to `True` as embedding layers found in `target_modules`.\")\n",
      "tokenizer config file saved in ./results/TinyLlama_v1.1_mlabonne/orpo-dpo-mix-40k_1_epochs_SFT/checkpoint-150/tokenizer_config.json\n",
      "Special tokens file saved in ./results/TinyLlama_v1.1_mlabonne/orpo-dpo-mix-40k_1_epochs_SFT/checkpoint-150/special_tokens_map.json\n",
      "***** Running Evaluation *****\n",
      "  Num examples = 1000\n",
      "  Batch size = 8\n",
      "Saving model checkpoint to ./results/TinyLlama_v1.1_mlabonne/orpo-dpo-mix-40k_1_epochs_SFT/checkpoint-300\n",
      "/usr/local/lib/python3.10/dist-packages/peft/utils/save_and_load.py:180: UserWarning: Setting `save_embedding_layers` to `True` as embedding layers found in `target_modules`.\n",
      "  warnings.warn(\"Setting `save_embedding_layers` to `True` as embedding layers found in `target_modules`.\")\n",
      "tokenizer config file saved in ./results/TinyLlama_v1.1_mlabonne/orpo-dpo-mix-40k_1_epochs_SFT/checkpoint-300/tokenizer_config.json\n",
      "Special tokens file saved in ./results/TinyLlama_v1.1_mlabonne/orpo-dpo-mix-40k_1_epochs_SFT/checkpoint-300/special_tokens_map.json\n",
      "Saving model checkpoint to ./results/TinyLlama_v1.1_mlabonne/orpo-dpo-mix-40k_1_epochs_SFT/checkpoint-450\n",
      "/usr/local/lib/python3.10/dist-packages/peft/utils/save_and_load.py:180: UserWarning: Setting `save_embedding_layers` to `True` as embedding layers found in `target_modules`.\n",
      "  warnings.warn(\"Setting `save_embedding_layers` to `True` as embedding layers found in `target_modules`.\")\n",
      "tokenizer config file saved in ./results/TinyLlama_v1.1_mlabonne/orpo-dpo-mix-40k_1_epochs_SFT/checkpoint-450/tokenizer_config.json\n",
      "Special tokens file saved in ./results/TinyLlama_v1.1_mlabonne/orpo-dpo-mix-40k_1_epochs_SFT/checkpoint-450/special_tokens_map.json\n",
      "***** Running Evaluation *****\n",
      "  Num examples = 1000\n",
      "  Batch size = 8\n",
      "Saving model checkpoint to ./results/TinyLlama_v1.1_mlabonne/orpo-dpo-mix-40k_1_epochs_SFT/checkpoint-600\n",
      "/usr/local/lib/python3.10/dist-packages/peft/utils/save_and_load.py:180: UserWarning: Setting `save_embedding_layers` to `True` as embedding layers found in `target_modules`.\n",
      "  warnings.warn(\"Setting `save_embedding_layers` to `True` as embedding layers found in `target_modules`.\")\n",
      "tokenizer config file saved in ./results/TinyLlama_v1.1_mlabonne/orpo-dpo-mix-40k_1_epochs_SFT/checkpoint-600/tokenizer_config.json\n",
      "Special tokens file saved in ./results/TinyLlama_v1.1_mlabonne/orpo-dpo-mix-40k_1_epochs_SFT/checkpoint-600/special_tokens_map.json\n",
      "Saving model checkpoint to ./results/TinyLlama_v1.1_mlabonne/orpo-dpo-mix-40k_1_epochs_SFT/checkpoint-750\n",
      "/usr/local/lib/python3.10/dist-packages/peft/utils/save_and_load.py:180: UserWarning: Setting `save_embedding_layers` to `True` as embedding layers found in `target_modules`.\n",
      "  warnings.warn(\"Setting `save_embedding_layers` to `True` as embedding layers found in `target_modules`.\")\n",
      "tokenizer config file saved in ./results/TinyLlama_v1.1_mlabonne/orpo-dpo-mix-40k_1_epochs_SFT/checkpoint-750/tokenizer_config.json\n",
      "Special tokens file saved in ./results/TinyLlama_v1.1_mlabonne/orpo-dpo-mix-40k_1_epochs_SFT/checkpoint-750/special_tokens_map.json\n",
      "***** Running Evaluation *****\n",
      "  Num examples = 1000\n",
      "  Batch size = 8\n",
      "Saving model checkpoint to ./results/TinyLlama_v1.1_mlabonne/orpo-dpo-mix-40k_1_epochs_SFT/checkpoint-900\n",
      "/usr/local/lib/python3.10/dist-packages/peft/utils/save_and_load.py:180: UserWarning: Setting `save_embedding_layers` to `True` as embedding layers found in `target_modules`.\n",
      "  warnings.warn(\"Setting `save_embedding_layers` to `True` as embedding layers found in `target_modules`.\")\n",
      "tokenizer config file saved in ./results/TinyLlama_v1.1_mlabonne/orpo-dpo-mix-40k_1_epochs_SFT/checkpoint-900/tokenizer_config.json\n",
      "Special tokens file saved in ./results/TinyLlama_v1.1_mlabonne/orpo-dpo-mix-40k_1_epochs_SFT/checkpoint-900/special_tokens_map.json\n",
      "Saving model checkpoint to ./results/TinyLlama_v1.1_mlabonne/orpo-dpo-mix-40k_1_epochs_SFT/checkpoint-1050\n",
      "/usr/local/lib/python3.10/dist-packages/peft/utils/save_and_load.py:180: UserWarning: Setting `save_embedding_layers` to `True` as embedding layers found in `target_modules`.\n",
      "  warnings.warn(\"Setting `save_embedding_layers` to `True` as embedding layers found in `target_modules`.\")\n",
      "tokenizer config file saved in ./results/TinyLlama_v1.1_mlabonne/orpo-dpo-mix-40k_1_epochs_SFT/checkpoint-1050/tokenizer_config.json\n",
      "Special tokens file saved in ./results/TinyLlama_v1.1_mlabonne/orpo-dpo-mix-40k_1_epochs_SFT/checkpoint-1050/special_tokens_map.json\n",
      "***** Running Evaluation *****\n",
      "  Num examples = 1000\n",
      "  Batch size = 8\n",
      "Saving model checkpoint to ./results/TinyLlama_v1.1_mlabonne/orpo-dpo-mix-40k_1_epochs_SFT/checkpoint-1200\n",
      "/usr/local/lib/python3.10/dist-packages/peft/utils/save_and_load.py:180: UserWarning: Setting `save_embedding_layers` to `True` as embedding layers found in `target_modules`.\n",
      "  warnings.warn(\"Setting `save_embedding_layers` to `True` as embedding layers found in `target_modules`.\")\n",
      "tokenizer config file saved in ./results/TinyLlama_v1.1_mlabonne/orpo-dpo-mix-40k_1_epochs_SFT/checkpoint-1200/tokenizer_config.json\n",
      "Special tokens file saved in ./results/TinyLlama_v1.1_mlabonne/orpo-dpo-mix-40k_1_epochs_SFT/checkpoint-1200/special_tokens_map.json\n",
      "Saving model checkpoint to ./results/TinyLlama_v1.1_mlabonne/orpo-dpo-mix-40k_1_epochs_SFT/checkpoint-1350\n",
      "/usr/local/lib/python3.10/dist-packages/peft/utils/save_and_load.py:180: UserWarning: Setting `save_embedding_layers` to `True` as embedding layers found in `target_modules`.\n",
      "  warnings.warn(\"Setting `save_embedding_layers` to `True` as embedding layers found in `target_modules`.\")\n",
      "tokenizer config file saved in ./results/TinyLlama_v1.1_mlabonne/orpo-dpo-mix-40k_1_epochs_SFT/checkpoint-1350/tokenizer_config.json\n",
      "Special tokens file saved in ./results/TinyLlama_v1.1_mlabonne/orpo-dpo-mix-40k_1_epochs_SFT/checkpoint-1350/special_tokens_map.json\n",
      "\n",
      "\n",
      "Training completed. Do not forget to share your model on huggingface.co/models =)\n",
      "\n",
      "\n"
     ]
    },
    {
     "data": {
      "text/plain": [
       "TrainOutput(global_step=1351, training_loss=1.3279773617214312, metrics={'train_runtime': 4304.6658, 'train_samples_per_second': 10.046, 'train_steps_per_second': 0.314, 'total_flos': 2.616444791832576e+17, 'train_loss': 1.3279773617214312, 'epoch': 0.9996300406955235})"
      ]
     },
     "execution_count": 38,
     "metadata": {},
     "output_type": "execute_result"
    }
   ],
   "source": [
    "model.config.use_cache=False # silence the warnings\n",
    "trainer.train()"
   ]
  },
  {
   "cell_type": "code",
   "execution_count": 39,
   "id": "a5a9d7d8",
   "metadata": {},
   "outputs": [
    {
     "name": "stderr",
     "output_type": "stream",
     "text": [
      "Saving model checkpoint to ./llmat/TinyLlama-1.1B_SFT\n",
      "/usr/local/lib/python3.10/dist-packages/peft/utils/save_and_load.py:180: UserWarning: Setting `save_embedding_layers` to `True` as embedding layers found in `target_modules`.\n",
      "  warnings.warn(\"Setting `save_embedding_layers` to `True` as embedding layers found in `target_modules`.\")\n",
      "tokenizer config file saved in ./llmat/TinyLlama-1.1B_SFT/tokenizer_config.json\n",
      "Special tokens file saved in ./llmat/TinyLlama-1.1B_SFT/special_tokens_map.json\n"
     ]
    }
   ],
   "source": [
    "trainer.save_model(new_model)"
   ]
  },
  {
   "cell_type": "markdown",
   "id": "a9d6ee5f",
   "metadata": {},
   "source": [
    "## Plotting "
   ]
  },
  {
   "cell_type": "code",
   "execution_count": 40,
   "id": "949f54c5",
   "metadata": {},
   "outputs": [
    {
     "data": {
      "image/png": "[encoded data removed]",
      "text/plain": [
       "<Figure size 640x480 with 1 Axes>"
      ]
     },
     "metadata": {},
     "output_type": "display_data"
    }
   ],
   "source": [
    "import matplotlib.pyplot as plt\n",
    "\n",
    "# Initialize lists to hold training and evaluation losses and steps\n",
    "train_losses = []\n",
    "eval_losses = []\n",
    "train_steps = []\n",
    "eval_steps = []\n",
    "\n",
    "# Populate the lists from the log history\n",
    "for entry in trainer.state.log_history:\n",
    "    if 'loss' in entry:\n",
    "        train_losses.append(entry['loss'])\n",
    "        train_steps.append(entry['step'])\n",
    "    if 'eval_loss' in entry:\n",
    "        eval_losses.append(entry['eval_loss'])\n",
    "        eval_steps.append(entry['step'])\n",
    "\n",
    "# Plot the losses\n",
    "plt.plot(train_steps, train_losses, label='Train Loss')\n",
    "plt.plot(eval_steps, eval_losses, label='Eval Loss')\n",
    "plt.xlabel('Steps')\n",
    "plt.ylabel('Loss')\n",
    "plt.legend()\n",
    "plt.show()"
   ]
  },
  {
   "cell_type": "markdown",
   "id": "566ca8e6",
   "metadata": {},
   "source": [
    "## Save trainable params if training non-LoRA modules"
   ]
  },
  {
   "cell_type": "code",
   "execution_count": 41,
   "id": "a4bc7154",
   "metadata": {},
   "outputs": [],
   "source": [
    "# Update the dictionary to reflect the final state of the model's\n",
    "trainable_params_state_dict = {n: p.data for n, p in model.named_parameters() if p.requires_grad}\n",
    "\n",
    "# Save the final state of the trainable parameters (ONLY RELEVANT FOR NON-LORA ADAPTERS)\n",
    "final_save_path = os.path.join(save_dir, 'trainable_params_final.pt')\n",
    "torch.save(trainable_params_state_dict, final_save_path)"
   ]
  },
  {
   "cell_type": "markdown",
   "id": "ac2ea5b3",
   "metadata": {},
   "source": [
    "# Evaluate after Training"
   ]
  },
  {
   "cell_type": "code",
   "execution_count": 42,
   "id": "5ff5d73e",
   "metadata": {},
   "outputs": [],
   "source": [
    "# Can set to true for faster inference\n",
    "model.config.use_cache = True"
   ]
  },
  {
   "cell_type": "code",
   "execution_count": 43,
   "id": "695da28b",
   "metadata": {},
   "outputs": [
    {
     "name": "stdout",
     "output_type": "stream",
     "text": [
      "Proceeding to inference with peft adapters from LlamaTokenizerFast(name_or_path='./TinyLlama/TinyLlama_v1.1', vocab_size=32000, model_max_length=1000000000000000019884624838656, is_fast=True, padding_side='right', truncation_side='right', special_tokens={'bos_token': '<s>', 'eos_token': '</s>', 'unk_token': '<unk>', 'pad_token': '<unk>'}, clean_up_tokenization_spaces=False),  added_tokens_decoder={\n",
      "\t0: AddedToken(\"<unk>\", rstrip=False, lstrip=False, single_word=False, normalized=False, special=True),\n",
      "\t1: AddedToken(\"<s>\", rstrip=False, lstrip=False, single_word=False, normalized=False, special=True),\n",
      "\t2: AddedToken(\"</s>\", rstrip=False, lstrip=False, single_word=False, normalized=False, special=True),\n",
      "}\n",
      "eval_model is on: cuda:0\n",
      "input_ids are on: cuda:0\n",
      "<s> [INST] What is one plus one? "
     ]
    },
    {
     "name": "stderr",
     "output_type": "stream",
     "text": [
      "`use_cache=True` is incompatible with gradient checkpointing. Setting `use_cache=False`.\n",
      "/usr/local/lib/python3.10/dist-packages/torch/utils/checkpoint.py:91: UserWarning: None of the inputs have requires_grad=True. Gradients will be None\n",
      "  warnings.warn(\n"
     ]
    },
    {
     "name": "stdout",
     "output_type": "stream",
     "text": [
      "[/INST]One plus one is 2. What is 2?</s>\n",
      "\n",
      "\n",
      "\n",
      "Proceeding to inference with peft adapters from LlamaTokenizerFast(name_or_path='./TinyLlama/TinyLlama_v1.1', vocab_size=32000, model_max_length=1000000000000000019884624838656, is_fast=True, padding_side='right', truncation_side='right', special_tokens={'bos_token': '<s>', 'eos_token': '</s>', 'unk_token': '<unk>', 'pad_token': '<unk>'}, clean_up_tokenization_spaces=False),  added_tokens_decoder={\n",
      "\t0: AddedToken(\"<unk>\", rstrip=False, lstrip=False, single_word=False, normalized=False, special=True),\n",
      "\t1: AddedToken(\"<s>\", rstrip=False, lstrip=False, single_word=False, normalized=False, special=True),\n",
      "\t2: AddedToken(\"</s>\", rstrip=False, lstrip=False, single_word=False, normalized=False, special=True),\n",
      "}\n",
      "eval_model is on: cuda:0\n",
      "input_ids are on: cuda:0\n",
      "<s> [INST] Give me some python code to add the first five Fibonacci numbers. [/INST]python code to add the first five Fibonacci numbers:\n",
      "\n",
      "```python\n",
      "fib = 0\n",
      "\n",
      "for i in range(1, 7):\n",
      "   fib += fib\n",
      "\n",
      "print(fib)\n",
      "```\n",
      "\n",
      "This program will print the fibonacci sequence 0, 1, 1, 2, 3, 5, and 8.\n",
      "\n",
      "# Summary\n",
      "\n",
      "In an effort to expand on the basic fibonacci sequence we learn about in 10 of 11, I have written a complete implementation of the fibonacci sequence for Python. \n",
      "\n",
      "While the Python code works exactly the same way as the C code, I wanted to showcase the differences in how the code is written and how functions are created.\n",
      "</s>\n",
      "\n",
      "\n",
      "\n"
     ]
    }
   ],
   "source": [
    "evaluation('base', tokenizer) # use this if training was done with "
   ]
  },
  {
   "cell_type": "markdown",
   "id": "8ad250fc",
   "metadata": {},
   "source": [
    "# Merge Adapters and Save Model to Hub"
   ]
  },
  {
   "cell_type": "code",
   "execution_count": 45,
   "id": "fe313db4",
   "metadata": {},
   "outputs": [
    {
     "name": "stdout",
     "output_type": "stream",
     "text": [
      "GPU cache cleared\n"
     ]
    }
   ],
   "source": [
    "import torch\n",
    "\n",
    "del trainer, model\n",
    "gc.collect()\n",
    "\n",
    "# Check if CUDA is available\n",
    "if torch.cuda.is_available():\n",
    "    # Clear GPU cache\n",
    "    torch.cuda.empty_cache()\n",
    "    print(\"GPU cache cleared\")\n",
    "else:\n",
    "    print(\"CUDA is not available. No GPU cache to clear.\")"
   ]
  },
  {
   "cell_type": "code",
   "execution_count": 46,
   "id": "e9557f17",
   "metadata": {},
   "outputs": [
    {
     "name": "stderr",
     "output_type": "stream",
     "text": [
      "loading configuration file ./TinyLlama/TinyLlama_v1.1/config.json\n",
      "Model config LlamaConfig {\n",
      "  \"_name_or_path\": \"./TinyLlama/TinyLlama_v1.1\",\n",
      "  \"architectures\": [\n",
      "    \"LlamaForCausalLM\"\n",
      "  ],\n",
      "  \"attention_bias\": false,\n",
      "  \"attention_dropout\": 0.0,\n",
      "  \"bos_token_id\": 1,\n",
      "  \"eos_token_id\": 2,\n",
      "  \"hidden_act\": \"silu\",\n",
      "  \"hidden_size\": 2048,\n",
      "  \"initializer_range\": 0.02,\n",
      "  \"intermediate_size\": 5632,\n",
      "  \"max_position_embeddings\": 2048,\n",
      "  \"mlp_bias\": false,\n",
      "  \"model_type\": \"llama\",\n",
      "  \"num_attention_heads\": 32,\n",
      "  \"num_hidden_layers\": 22,\n",
      "  \"num_key_value_heads\": 4,\n",
      "  \"pretraining_tp\": 1,\n",
      "  \"rms_norm_eps\": 1e-05,\n",
      "  \"rope_scaling\": null,\n",
      "  \"rope_theta\": 10000.0,\n",
      "  \"tie_word_embeddings\": false,\n",
      "  \"torch_dtype\": \"float16\",\n",
      "  \"transformers_version\": \"4.41.2\",\n",
      "  \"use_cache\": true,\n",
      "  \"vocab_size\": 32000\n",
      "}\n",
      "\n",
      "loading weights file ./TinyLlama/TinyLlama_v1.1/pytorch_model.bin\n",
      "Instantiating LlamaForCausalLM model under default dtype torch.float16.\n",
      "Generate config GenerationConfig {\n",
      "  \"bos_token_id\": 1,\n",
      "  \"eos_token_id\": 2\n",
      "}\n",
      "\n",
      "All model checkpoint weights were used when initializing LlamaForCausalLM.\n",
      "\n",
      "All the weights of LlamaForCausalLM were initialized from the model checkpoint at ./TinyLlama/TinyLlama_v1.1.\n",
      "If your task is similar to the task the model of the checkpoint was trained on, you can already use LlamaForCausalLM for predictions without further training.\n",
      "loading configuration file ./TinyLlama/TinyLlama_v1.1/generation_config.json\n",
      "Generate config GenerationConfig {\n",
      "  \"bos_token_id\": 1,\n",
      "  \"eos_token_id\": 2,\n",
      "  \"max_length\": 2048,\n",
      "  \"pad_token_id\": 0\n",
      "}\n",
      "\n"
     ]
    }
   ],
   "source": [
    "# Reload tokenizer and model\n",
    "#tokenizer = AutoTokenizer.from_pretrained(model_id)\n",
    "model = AutoModelForCausalLM.from_pretrained(\n",
    "    model_id,\n",
    "    #low_cpu_mem_usage=True,\n",
    "    return_dict=True,\n",
    "    torch_dtype=torch.float16,\n",
    "    device_map=\"auto\",\n",
    ")\n",
    "\n",
    "# Merge adapter with base model\n",
    "model = PeftModel.from_pretrained(model, new_model)\n",
    "model = model.merge_and_unload()"
   ]
  },
  {
   "cell_type": "code",
   "execution_count": 47,
   "id": "af275c8f",
   "metadata": {},
   "outputs": [
    {
     "name": "stderr",
     "output_type": "stream",
     "text": [
      "huggingface/tokenizers: The current process just got forked, after parallelism has already been used. Disabling parallelism to avoid deadlocks...\n",
      "To disable this warning, you can either:\n",
      "\t- Avoid using `tokenizers` before the fork if possible\n",
      "\t- Explicitly set the environment variable TOKENIZERS_PARALLELISM=(true | false)\n"
     ]
    },
    {
     "name": "stdout",
     "output_type": "stream",
     "text": [
      "Token is valid (permission: write).\n",
      "\u001b[1m\u001b[31mCannot authenticate through git-credential as no helper is defined on your machine.\n",
      "You might have to re-authenticate when pushing to the Hugging Face Hub.\n",
      "Run the following command in your terminal in case you want to set the 'store' credential helper as default.\n",
      "\n",
      "git config --global credential.helper store\n",
      "\n",
      "Read https://git-scm.com/book/en/v2/Git-Tools-Credential-Storage for more details.\u001b[0m\n",
      "Token has not been saved to git credential helper.\n",
      "Your token has been saved to /root/.cache/huggingface/token\n",
      "Login successful\n"
     ]
    }
   ],
   "source": [
    "!huggingface-cli login --token $HUGGINGFACE_TOKEN --add-to-git-credential"
   ]
  },
  {
   "cell_type": "code",
   "execution_count": 51,
   "id": "40c8210e",
   "metadata": {},
   "outputs": [],
   "source": [
    "# Define the save and push paths\n",
    "adapter_model = f\"llmat/{model_name}-{fine_tune_tag}-adapters\"\n",
    "new_model = f\"llmat/{model_name}-{fine_tune_tag}\""
   ]
  },
  {
   "cell_type": "code",
   "execution_count": 49,
   "id": "1a4e1f32",
   "metadata": {},
   "outputs": [
    {
     "name": "stderr",
     "output_type": "stream",
     "text": [
      "/usr/local/lib/python3.10/dist-packages/transformers/modeling_utils.py:2390: FutureWarning: The `use_auth_token` argument is deprecated and will be removed in v5 of Transformers. Please use `token` instead.\n",
      "  warnings.warn(\n",
      "Configuration saved in demaz/TinyLlama_v1.1-SFT-adapters/config.json\n",
      "Configuration saved in demaz/TinyLlama_v1.1-SFT-adapters/generation_config.json\n",
      "Model weights saved in demaz/TinyLlama_v1.1-SFT-adapters/model.safetensors\n",
      "Uploading the following files to llmat/TinyLlama_v1.1-SFT-adapters: config.json,generation_config.json,model.safetensors,README.md\n"
     ]
    },
    {
     "data": {
      "application/vnd.jupyter.widget-view+json": {
       "model_id": "a9beeae148634cfb9e1c273c6a7701e8",
       "version_major": 2,
       "version_minor": 0
      },
      "text/plain": [
       "model.safetensors:   0%|          | 0.00/2.20G [00:00<?, ?B/s]"
      ]
     },
     "metadata": {},
     "output_type": "display_data"
    },
    {
     "name": "stderr",
     "output_type": "stream",
     "text": [
      "tokenizer config file saved in demaz/TinyLlama_v1.1-SFT-adapters/tokenizer_config.json\n",
      "Special tokens file saved in demaz/TinyLlama_v1.1-SFT-adapters/special_tokens_map.json\n"
     ]
    },
    {
     "data": {
      "text/plain": [
       "('demaz/TinyLlama_v1.1-SFT-adapters/tokenizer_config.json',\n",
       " 'demaz/TinyLlama_v1.1-SFT-adapters/special_tokens_map.json',\n",
       " 'demaz/TinyLlama_v1.1-SFT-adapters/tokenizer.model',\n",
       " 'demaz/TinyLlama_v1.1-SFT-adapters/added_tokens.json',\n",
       " 'demaz/TinyLlama_v1.1-SFT-adapters/tokenizer.json')"
      ]
     },
     "execution_count": 49,
     "metadata": {},
     "output_type": "execute_result"
    }
   ],
   "source": [
    "# Save the model\n",
    "model.save_pretrained(adapter_model, push_to_hub=True, use_auth_token=True)\n",
    "\n",
    "# Save the tokenizer to make sure the updated config is saved as well\n",
    "tokenizer.save_pretrained(adapter_model)"
   ]
  },
  {
   "cell_type": "code",
   "execution_count": 52,
   "id": "28fdd5c6",
   "metadata": {},
   "outputs": [
    {
     "name": "stderr",
     "output_type": "stream",
     "text": [
      "Configuration saved in /tmp/tmpmuhhlq3z/config.json\n",
      "Configuration saved in /tmp/tmpmuhhlq3z/generation_config.json\n",
      "Model weights saved in /tmp/tmpmuhhlq3z/model.safetensors\n",
      "Uploading the following files to llmat/TinyLlama_v1.1-SFT: README.md,generation_config.json,model.safetensors,config.json\n"
     ]
    },
    {
     "data": {
      "application/vnd.jupyter.widget-view+json": {
       "model_id": "133b0338515a41c69fe4ccedf2c4ccaa",
       "version_major": 2,
       "version_minor": 0
      },
      "text/plain": [
       "model.safetensors:   0%|          | 0.00/2.20G [00:00<?, ?B/s]"
      ]
     },
     "metadata": {},
     "output_type": "display_data"
    },
    {
     "data": {
      "text/plain": [
       "CommitInfo(commit_url='https://huggingface.co/llmat/TinyLlama_v1.1-SFT/commit/55acc55d8d2ebbb849c7158882497200d05c82aa', commit_message='Upload LlamaForCausalLM', commit_description='', oid='55acc55d8d2ebbb849c7158882497200d05c82aa', pr_url=None, pr_revision=None, pr_num=None)"
      ]
     },
     "execution_count": 52,
     "metadata": {},
     "output_type": "execute_result"
    }
   ],
   "source": [
    "model.push_to_hub(new_model, use_auth_token=True, max_shard_size='10GB', use_safetensors=True)"
   ]
  },
  {
   "cell_type": "code",
   "execution_count": 53,
   "id": "7cfb5ee7",
   "metadata": {},
   "outputs": [
    {
     "name": "stderr",
     "output_type": "stream",
     "text": [
      "/usr/local/lib/python3.10/dist-packages/transformers/utils/hub.py:836: FutureWarning: The `use_auth_token` argument is deprecated and will be removed in v5 of Transformers. Please use `token` instead.\n",
      "  warnings.warn(\n"
     ]
    },
    {
     "data": {
      "application/vnd.jupyter.widget-view+json": {
       "model_id": "98fdc202cd5a43eea921c9f133cb2b1a",
       "version_major": 2,
       "version_minor": 0
      },
      "text/plain": [
       "README.md:   0%|          | 0.00/5.17k [00:00<?, ?B/s]"
      ]
     },
     "metadata": {},
     "output_type": "display_data"
    },
    {
     "name": "stderr",
     "output_type": "stream",
     "text": [
      "tokenizer config file saved in /tmp/tmpnsc3n0cf/tokenizer_config.json\n",
      "Special tokens file saved in /tmp/tmpnsc3n0cf/special_tokens_map.json\n",
      "Uploading the following files to llmat/TinyLlama_v1.1-SFT: tokenizer.json,tokenizer_config.json,README.md,special_tokens_map.json,tokenizer.model\n"
     ]
    },
    {
     "data": {
      "application/vnd.jupyter.widget-view+json": {
       "model_id": "153307bdd71144589af0cf9ab53fc27e",
       "version_major": 2,
       "version_minor": 0
      },
      "text/plain": [
       "tokenizer.model:   0%|          | 0.00/500k [00:00<?, ?B/s]"
      ]
     },
     "metadata": {},
     "output_type": "display_data"
    },
    {
     "data": {
      "text/plain": [
       "CommitInfo(commit_url='https://huggingface.co/llmat/TinyLlama_v1.1-SFT/commit/79d8493c8eba87d4355215d4c9e37cdc400210b2', commit_message='Upload tokenizer', commit_description='', oid='79d8493c8eba87d4355215d4c9e37cdc400210b2', pr_url=None, pr_revision=None, pr_num=None)"
      ]
     },
     "execution_count": 53,
     "metadata": {},
     "output_type": "execute_result"
    }
   ],
   "source": [
    "# Push the tokenizer\n",
    "## OR Reload from scratch if you don't want pad tokens to be in the tokenizer (which you don't if this makes the tokenizer si\n",
    "\n",
    "# from transformers import AutoTokenizer\n",
    "\n",
    "# tokenizer = AutoTokenizer.from_pretrained(model_id, trust_remote_code=True)\n",
    "tokenizer.push_to_hub(new_model, use_auth_token=True)"
   ]
  },
  {
   "cell_type": "code",
   "execution_count": null,
   "id": "4ed80460",
   "metadata": {},
   "outputs": [],
   "source": []
  }
 ],
 "metadata": {
  "kernelspec": {
   "display_name": "Python 3 (ipykernel)",
   "language": "python",
   "name": "python3"
  },
  "language_info": {
   "codemirror_mode": {
    "name": "ipython",
    "version": 3
   },
   "file_extension": ".py",
   "mimetype": "text/x-python",
   "name": "python",
   "nbconvert_exporter": "python",
   "pygments_lexer": "ipython3",
   "version": "3.10.12"
  }
 },
 "nbformat": 4,
 "nbformat_minor": 5
}
